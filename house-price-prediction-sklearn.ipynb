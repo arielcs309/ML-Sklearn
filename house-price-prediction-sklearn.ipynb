{
 "cells": [
  {
   "cell_type": "code",
   "execution_count": 1,
   "id": "a2ef7dcf",
   "metadata": {
    "_execution_state": "idle",
    "_uuid": "051d70d956493feee0c6d64651c6a088724dca2a",
    "execution": {
     "iopub.execute_input": "2024-01-10T01:24:59.945576Z",
     "iopub.status.busy": "2024-01-10T01:24:59.945216Z",
     "iopub.status.idle": "2024-01-10T01:25:02.349164Z",
     "shell.execute_reply": "2024-01-10T01:25:02.348138Z"
    },
    "papermill": {
     "duration": 2.421122,
     "end_time": "2024-01-10T01:25:02.351775",
     "exception": false,
     "start_time": "2024-01-10T01:24:59.930653",
     "status": "completed"
    },
    "tags": []
   },
   "outputs": [],
   "source": [
    "import pandas as pd \n",
    "import numpy as np\n",
    "from sklearn.preprocessing import OneHotEncoder\n",
    "import matplotlib.pyplot as plt #to put the heatmap\n",
    "import seaborn as sns #to vizualise the data\n",
    "from sklearn.model_selection import train_test_split #split to  train and test\n",
    "from sklearn.linear_model import LinearRegression #creating the model\n",
    "from sklearn.metrics import r2_score #to calculate the R and see how the determination coeficient is"
   ]
  },
  {
   "cell_type": "code",
   "execution_count": 2,
   "id": "d6172c65",
   "metadata": {
    "execution": {
     "iopub.execute_input": "2024-01-10T01:25:02.377840Z",
     "iopub.status.busy": "2024-01-10T01:25:02.377303Z",
     "iopub.status.idle": "2024-01-10T01:25:02.468845Z",
     "shell.execute_reply": "2024-01-10T01:25:02.467639Z"
    },
    "papermill": {
     "duration": 0.10673,
     "end_time": "2024-01-10T01:25:02.470746",
     "exception": false,
     "start_time": "2024-01-10T01:25:02.364016",
     "status": "completed"
    },
    "tags": []
   },
   "outputs": [
    {
     "data": {
      "text/html": [
       "<div>\n",
       "<style scoped>\n",
       "    .dataframe tbody tr th:only-of-type {\n",
       "        vertical-align: middle;\n",
       "    }\n",
       "\n",
       "    .dataframe tbody tr th {\n",
       "        vertical-align: top;\n",
       "    }\n",
       "\n",
       "    .dataframe thead th {\n",
       "        text-align: right;\n",
       "    }\n",
       "</style>\n",
       "<table border=\"1\" class=\"dataframe\">\n",
       "  <thead>\n",
       "    <tr style=\"text-align: right;\">\n",
       "      <th></th>\n",
       "      <th>SquareFeet</th>\n",
       "      <th>Bedrooms</th>\n",
       "      <th>Bathrooms</th>\n",
       "      <th>Neighborhood</th>\n",
       "      <th>YearBuilt</th>\n",
       "      <th>Price</th>\n",
       "    </tr>\n",
       "  </thead>\n",
       "  <tbody>\n",
       "    <tr>\n",
       "      <th>0</th>\n",
       "      <td>2126</td>\n",
       "      <td>4</td>\n",
       "      <td>1</td>\n",
       "      <td>Rural</td>\n",
       "      <td>1969</td>\n",
       "      <td>215355.283618</td>\n",
       "    </tr>\n",
       "    <tr>\n",
       "      <th>1</th>\n",
       "      <td>2459</td>\n",
       "      <td>3</td>\n",
       "      <td>2</td>\n",
       "      <td>Rural</td>\n",
       "      <td>1980</td>\n",
       "      <td>195014.221626</td>\n",
       "    </tr>\n",
       "    <tr>\n",
       "      <th>2</th>\n",
       "      <td>1860</td>\n",
       "      <td>2</td>\n",
       "      <td>1</td>\n",
       "      <td>Suburb</td>\n",
       "      <td>1970</td>\n",
       "      <td>306891.012076</td>\n",
       "    </tr>\n",
       "    <tr>\n",
       "      <th>3</th>\n",
       "      <td>2294</td>\n",
       "      <td>2</td>\n",
       "      <td>1</td>\n",
       "      <td>Urban</td>\n",
       "      <td>1996</td>\n",
       "      <td>206786.787153</td>\n",
       "    </tr>\n",
       "    <tr>\n",
       "      <th>4</th>\n",
       "      <td>2130</td>\n",
       "      <td>5</td>\n",
       "      <td>2</td>\n",
       "      <td>Suburb</td>\n",
       "      <td>2001</td>\n",
       "      <td>272436.239065</td>\n",
       "    </tr>\n",
       "    <tr>\n",
       "      <th>...</th>\n",
       "      <td>...</td>\n",
       "      <td>...</td>\n",
       "      <td>...</td>\n",
       "      <td>...</td>\n",
       "      <td>...</td>\n",
       "      <td>...</td>\n",
       "    </tr>\n",
       "    <tr>\n",
       "      <th>49995</th>\n",
       "      <td>1282</td>\n",
       "      <td>5</td>\n",
       "      <td>3</td>\n",
       "      <td>Rural</td>\n",
       "      <td>1975</td>\n",
       "      <td>100080.865895</td>\n",
       "    </tr>\n",
       "    <tr>\n",
       "      <th>49996</th>\n",
       "      <td>2854</td>\n",
       "      <td>2</td>\n",
       "      <td>2</td>\n",
       "      <td>Suburb</td>\n",
       "      <td>1988</td>\n",
       "      <td>374507.656727</td>\n",
       "    </tr>\n",
       "    <tr>\n",
       "      <th>49997</th>\n",
       "      <td>2979</td>\n",
       "      <td>5</td>\n",
       "      <td>3</td>\n",
       "      <td>Suburb</td>\n",
       "      <td>1962</td>\n",
       "      <td>384110.555590</td>\n",
       "    </tr>\n",
       "    <tr>\n",
       "      <th>49998</th>\n",
       "      <td>2596</td>\n",
       "      <td>5</td>\n",
       "      <td>2</td>\n",
       "      <td>Rural</td>\n",
       "      <td>1984</td>\n",
       "      <td>380512.685957</td>\n",
       "    </tr>\n",
       "    <tr>\n",
       "      <th>49999</th>\n",
       "      <td>1572</td>\n",
       "      <td>5</td>\n",
       "      <td>3</td>\n",
       "      <td>Rural</td>\n",
       "      <td>2011</td>\n",
       "      <td>221618.583218</td>\n",
       "    </tr>\n",
       "  </tbody>\n",
       "</table>\n",
       "<p>50000 rows × 6 columns</p>\n",
       "</div>"
      ],
      "text/plain": [
       "       SquareFeet  Bedrooms  Bathrooms Neighborhood  YearBuilt          Price\n",
       "0            2126         4          1        Rural       1969  215355.283618\n",
       "1            2459         3          2        Rural       1980  195014.221626\n",
       "2            1860         2          1       Suburb       1970  306891.012076\n",
       "3            2294         2          1        Urban       1996  206786.787153\n",
       "4            2130         5          2       Suburb       2001  272436.239065\n",
       "...           ...       ...        ...          ...        ...            ...\n",
       "49995        1282         5          3        Rural       1975  100080.865895\n",
       "49996        2854         2          2       Suburb       1988  374507.656727\n",
       "49997        2979         5          3       Suburb       1962  384110.555590\n",
       "49998        2596         5          2        Rural       1984  380512.685957\n",
       "49999        1572         5          3        Rural       2011  221618.583218\n",
       "\n",
       "[50000 rows x 6 columns]"
      ]
     },
     "execution_count": 2,
     "metadata": {},
     "output_type": "execute_result"
    }
   ],
   "source": [
    "db = pd.read_csv('/kaggle/input/housing-price-prediction-data/housing_price_dataset.csv')\n",
    "db"
   ]
  },
  {
   "cell_type": "code",
   "execution_count": 3,
   "id": "cac2c6eb",
   "metadata": {
    "execution": {
     "iopub.execute_input": "2024-01-10T01:25:02.496589Z",
     "iopub.status.busy": "2024-01-10T01:25:02.496207Z",
     "iopub.status.idle": "2024-01-10T01:25:02.525037Z",
     "shell.execute_reply": "2024-01-10T01:25:02.524001Z"
    },
    "papermill": {
     "duration": 0.044503,
     "end_time": "2024-01-10T01:25:02.527525",
     "exception": false,
     "start_time": "2024-01-10T01:25:02.483022",
     "status": "completed"
    },
    "tags": []
   },
   "outputs": [
    {
     "name": "stdout",
     "output_type": "stream",
     "text": [
      "========================================================================================================================\n",
      "SquareFeet\n",
      "2486    43\n",
      "1897    41\n",
      "2946    40\n",
      "2573    40\n",
      "1398    40\n",
      "        ..\n",
      "1019    12\n",
      "1635    12\n",
      "2330    12\n",
      "2087    11\n",
      "1828    10\n",
      "Name: count, Length: 2000, dtype: int64\n",
      "========================================================================================================================\n",
      "Bedrooms\n",
      "3    12661\n",
      "5    12468\n",
      "2    12436\n",
      "4    12435\n",
      "Name: count, dtype: int64\n",
      "========================================================================================================================\n",
      "Bathrooms\n",
      "1    16755\n",
      "2    16719\n",
      "3    16526\n",
      "Name: count, dtype: int64\n",
      "========================================================================================================================\n",
      "Neighborhood\n",
      "Suburb    16721\n",
      "Rural     16676\n",
      "Urban     16603\n",
      "Name: count, dtype: int64\n",
      "========================================================================================================================\n",
      "YearBuilt\n",
      "1968    777\n",
      "1977    742\n",
      "1983    741\n",
      "1967    729\n",
      "1999    728\n",
      "       ... \n",
      "1950    643\n",
      "2016    642\n",
      "2006    640\n",
      "2012    638\n",
      "2001    621\n",
      "Name: count, Length: 72, dtype: int64\n",
      "========================================================================================================================\n",
      "Price\n",
      "215355.283618    1\n",
      "153636.537671    1\n",
      "229477.752136    1\n",
      "335187.076704    1\n",
      "130369.813111    1\n",
      "                ..\n",
      "248908.682853    1\n",
      "102723.154923    1\n",
      "350297.654683    1\n",
      "68521.596847     1\n",
      "221618.583218    1\n",
      "Name: count, Length: 50000, dtype: int64\n"
     ]
    }
   ],
   "source": [
    "for column in db.columns:\n",
    "    print('===='*30)\n",
    "    print (db[column].value_counts())"
   ]
  },
  {
   "cell_type": "code",
   "execution_count": 4,
   "id": "d53c92f4",
   "metadata": {
    "execution": {
     "iopub.execute_input": "2024-01-10T01:25:02.554443Z",
     "iopub.status.busy": "2024-01-10T01:25:02.554063Z",
     "iopub.status.idle": "2024-01-10T01:25:02.581520Z",
     "shell.execute_reply": "2024-01-10T01:25:02.580378Z"
    },
    "papermill": {
     "duration": 0.043518,
     "end_time": "2024-01-10T01:25:02.583450",
     "exception": false,
     "start_time": "2024-01-10T01:25:02.539932",
     "status": "completed"
    },
    "tags": []
   },
   "outputs": [
    {
     "data": {
      "text/html": [
       "<div>\n",
       "<style scoped>\n",
       "    .dataframe tbody tr th:only-of-type {\n",
       "        vertical-align: middle;\n",
       "    }\n",
       "\n",
       "    .dataframe tbody tr th {\n",
       "        vertical-align: top;\n",
       "    }\n",
       "\n",
       "    .dataframe thead th {\n",
       "        text-align: right;\n",
       "    }\n",
       "</style>\n",
       "<table border=\"1\" class=\"dataframe\">\n",
       "  <thead>\n",
       "    <tr style=\"text-align: right;\">\n",
       "      <th></th>\n",
       "      <th>SquareFeet</th>\n",
       "      <th>Bedrooms</th>\n",
       "      <th>Bathrooms</th>\n",
       "      <th>YearBuilt</th>\n",
       "      <th>Price</th>\n",
       "      <th>C_Rural</th>\n",
       "      <th>C_Suburb</th>\n",
       "      <th>C_Urban</th>\n",
       "    </tr>\n",
       "  </thead>\n",
       "  <tbody>\n",
       "    <tr>\n",
       "      <th>0</th>\n",
       "      <td>2126</td>\n",
       "      <td>4</td>\n",
       "      <td>1</td>\n",
       "      <td>1969</td>\n",
       "      <td>215355.283618</td>\n",
       "      <td>True</td>\n",
       "      <td>False</td>\n",
       "      <td>False</td>\n",
       "    </tr>\n",
       "    <tr>\n",
       "      <th>1</th>\n",
       "      <td>2459</td>\n",
       "      <td>3</td>\n",
       "      <td>2</td>\n",
       "      <td>1980</td>\n",
       "      <td>195014.221626</td>\n",
       "      <td>True</td>\n",
       "      <td>False</td>\n",
       "      <td>False</td>\n",
       "    </tr>\n",
       "    <tr>\n",
       "      <th>2</th>\n",
       "      <td>1860</td>\n",
       "      <td>2</td>\n",
       "      <td>1</td>\n",
       "      <td>1970</td>\n",
       "      <td>306891.012076</td>\n",
       "      <td>False</td>\n",
       "      <td>True</td>\n",
       "      <td>False</td>\n",
       "    </tr>\n",
       "    <tr>\n",
       "      <th>3</th>\n",
       "      <td>2294</td>\n",
       "      <td>2</td>\n",
       "      <td>1</td>\n",
       "      <td>1996</td>\n",
       "      <td>206786.787153</td>\n",
       "      <td>False</td>\n",
       "      <td>False</td>\n",
       "      <td>True</td>\n",
       "    </tr>\n",
       "    <tr>\n",
       "      <th>4</th>\n",
       "      <td>2130</td>\n",
       "      <td>5</td>\n",
       "      <td>2</td>\n",
       "      <td>2001</td>\n",
       "      <td>272436.239065</td>\n",
       "      <td>False</td>\n",
       "      <td>True</td>\n",
       "      <td>False</td>\n",
       "    </tr>\n",
       "    <tr>\n",
       "      <th>...</th>\n",
       "      <td>...</td>\n",
       "      <td>...</td>\n",
       "      <td>...</td>\n",
       "      <td>...</td>\n",
       "      <td>...</td>\n",
       "      <td>...</td>\n",
       "      <td>...</td>\n",
       "      <td>...</td>\n",
       "    </tr>\n",
       "    <tr>\n",
       "      <th>49995</th>\n",
       "      <td>1282</td>\n",
       "      <td>5</td>\n",
       "      <td>3</td>\n",
       "      <td>1975</td>\n",
       "      <td>100080.865895</td>\n",
       "      <td>True</td>\n",
       "      <td>False</td>\n",
       "      <td>False</td>\n",
       "    </tr>\n",
       "    <tr>\n",
       "      <th>49996</th>\n",
       "      <td>2854</td>\n",
       "      <td>2</td>\n",
       "      <td>2</td>\n",
       "      <td>1988</td>\n",
       "      <td>374507.656727</td>\n",
       "      <td>False</td>\n",
       "      <td>True</td>\n",
       "      <td>False</td>\n",
       "    </tr>\n",
       "    <tr>\n",
       "      <th>49997</th>\n",
       "      <td>2979</td>\n",
       "      <td>5</td>\n",
       "      <td>3</td>\n",
       "      <td>1962</td>\n",
       "      <td>384110.555590</td>\n",
       "      <td>False</td>\n",
       "      <td>True</td>\n",
       "      <td>False</td>\n",
       "    </tr>\n",
       "    <tr>\n",
       "      <th>49998</th>\n",
       "      <td>2596</td>\n",
       "      <td>5</td>\n",
       "      <td>2</td>\n",
       "      <td>1984</td>\n",
       "      <td>380512.685957</td>\n",
       "      <td>True</td>\n",
       "      <td>False</td>\n",
       "      <td>False</td>\n",
       "    </tr>\n",
       "    <tr>\n",
       "      <th>49999</th>\n",
       "      <td>1572</td>\n",
       "      <td>5</td>\n",
       "      <td>3</td>\n",
       "      <td>2011</td>\n",
       "      <td>221618.583218</td>\n",
       "      <td>True</td>\n",
       "      <td>False</td>\n",
       "      <td>False</td>\n",
       "    </tr>\n",
       "  </tbody>\n",
       "</table>\n",
       "<p>50000 rows × 8 columns</p>\n",
       "</div>"
      ],
      "text/plain": [
       "       SquareFeet  Bedrooms  Bathrooms  YearBuilt          Price  C_Rural  \\\n",
       "0            2126         4          1       1969  215355.283618     True   \n",
       "1            2459         3          2       1980  195014.221626     True   \n",
       "2            1860         2          1       1970  306891.012076    False   \n",
       "3            2294         2          1       1996  206786.787153    False   \n",
       "4            2130         5          2       2001  272436.239065    False   \n",
       "...           ...       ...        ...        ...            ...      ...   \n",
       "49995        1282         5          3       1975  100080.865895     True   \n",
       "49996        2854         2          2       1988  374507.656727    False   \n",
       "49997        2979         5          3       1962  384110.555590    False   \n",
       "49998        2596         5          2       1984  380512.685957     True   \n",
       "49999        1572         5          3       2011  221618.583218     True   \n",
       "\n",
       "       C_Suburb  C_Urban  \n",
       "0         False    False  \n",
       "1         False    False  \n",
       "2          True    False  \n",
       "3         False     True  \n",
       "4          True    False  \n",
       "...         ...      ...  \n",
       "49995     False    False  \n",
       "49996      True    False  \n",
       "49997      True    False  \n",
       "49998     False    False  \n",
       "49999     False    False  \n",
       "\n",
       "[50000 rows x 8 columns]"
      ]
     },
     "execution_count": 4,
     "metadata": {},
     "output_type": "execute_result"
    }
   ],
   "source": [
    "db1 = pd.get_dummies(db, columns = ['Neighborhood'],\n",
    "                    prefix = 'C')\n",
    "db1"
   ]
  },
  {
   "cell_type": "code",
   "execution_count": 5,
   "id": "769643b2",
   "metadata": {
    "execution": {
     "iopub.execute_input": "2024-01-10T01:25:02.610966Z",
     "iopub.status.busy": "2024-01-10T01:25:02.610100Z",
     "iopub.status.idle": "2024-01-10T01:25:02.635143Z",
     "shell.execute_reply": "2024-01-10T01:25:02.633875Z"
    },
    "papermill": {
     "duration": 0.040791,
     "end_time": "2024-01-10T01:25:02.637163",
     "exception": false,
     "start_time": "2024-01-10T01:25:02.596372",
     "status": "completed"
    },
    "tags": []
   },
   "outputs": [
    {
     "data": {
      "text/html": [
       "<div>\n",
       "<style scoped>\n",
       "    .dataframe tbody tr th:only-of-type {\n",
       "        vertical-align: middle;\n",
       "    }\n",
       "\n",
       "    .dataframe tbody tr th {\n",
       "        vertical-align: top;\n",
       "    }\n",
       "\n",
       "    .dataframe thead th {\n",
       "        text-align: right;\n",
       "    }\n",
       "</style>\n",
       "<table border=\"1\" class=\"dataframe\">\n",
       "  <thead>\n",
       "    <tr style=\"text-align: right;\">\n",
       "      <th></th>\n",
       "      <th>SquareFeet</th>\n",
       "      <th>Bedrooms</th>\n",
       "      <th>Bathrooms</th>\n",
       "      <th>YearBuilt</th>\n",
       "      <th>Price</th>\n",
       "      <th>C_Rural</th>\n",
       "      <th>C_Suburb</th>\n",
       "      <th>C_Urban</th>\n",
       "    </tr>\n",
       "  </thead>\n",
       "  <tbody>\n",
       "    <tr>\n",
       "      <th>SquareFeet</th>\n",
       "      <td>1.000000</td>\n",
       "      <td>-0.002638</td>\n",
       "      <td>-0.003275</td>\n",
       "      <td>0.000482</td>\n",
       "      <td>0.750720</td>\n",
       "      <td>-0.005843</td>\n",
       "      <td>-0.007665</td>\n",
       "      <td>0.013528</td>\n",
       "    </tr>\n",
       "    <tr>\n",
       "      <th>Bedrooms</th>\n",
       "      <td>-0.002638</td>\n",
       "      <td>1.000000</td>\n",
       "      <td>0.007405</td>\n",
       "      <td>0.003147</td>\n",
       "      <td>0.072624</td>\n",
       "      <td>0.005156</td>\n",
       "      <td>-0.003029</td>\n",
       "      <td>-0.002127</td>\n",
       "    </tr>\n",
       "    <tr>\n",
       "      <th>Bathrooms</th>\n",
       "      <td>-0.003275</td>\n",
       "      <td>0.007405</td>\n",
       "      <td>1.000000</td>\n",
       "      <td>0.003748</td>\n",
       "      <td>0.028418</td>\n",
       "      <td>-0.003672</td>\n",
       "      <td>0.004551</td>\n",
       "      <td>-0.000883</td>\n",
       "    </tr>\n",
       "    <tr>\n",
       "      <th>YearBuilt</th>\n",
       "      <td>0.000482</td>\n",
       "      <td>0.003147</td>\n",
       "      <td>0.003748</td>\n",
       "      <td>1.000000</td>\n",
       "      <td>-0.002288</td>\n",
       "      <td>-0.001747</td>\n",
       "      <td>0.003793</td>\n",
       "      <td>-0.002051</td>\n",
       "    </tr>\n",
       "    <tr>\n",
       "      <th>Price</th>\n",
       "      <td>0.750720</td>\n",
       "      <td>0.072624</td>\n",
       "      <td>0.028418</td>\n",
       "      <td>-0.002288</td>\n",
       "      <td>1.000000</td>\n",
       "      <td>-0.006793</td>\n",
       "      <td>-0.014831</td>\n",
       "      <td>0.021658</td>\n",
       "    </tr>\n",
       "    <tr>\n",
       "      <th>C_Rural</th>\n",
       "      <td>-0.005843</td>\n",
       "      <td>0.005156</td>\n",
       "      <td>-0.003672</td>\n",
       "      <td>-0.001747</td>\n",
       "      <td>-0.006793</td>\n",
       "      <td>1.000000</td>\n",
       "      <td>-0.501434</td>\n",
       "      <td>-0.498778</td>\n",
       "    </tr>\n",
       "    <tr>\n",
       "      <th>C_Suburb</th>\n",
       "      <td>-0.007665</td>\n",
       "      <td>-0.003029</td>\n",
       "      <td>0.004551</td>\n",
       "      <td>0.003793</td>\n",
       "      <td>-0.014831</td>\n",
       "      <td>-0.501434</td>\n",
       "      <td>1.000000</td>\n",
       "      <td>-0.499788</td>\n",
       "    </tr>\n",
       "    <tr>\n",
       "      <th>C_Urban</th>\n",
       "      <td>0.013528</td>\n",
       "      <td>-0.002127</td>\n",
       "      <td>-0.000883</td>\n",
       "      <td>-0.002051</td>\n",
       "      <td>0.021658</td>\n",
       "      <td>-0.498778</td>\n",
       "      <td>-0.499788</td>\n",
       "      <td>1.000000</td>\n",
       "    </tr>\n",
       "  </tbody>\n",
       "</table>\n",
       "</div>"
      ],
      "text/plain": [
       "            SquareFeet  Bedrooms  Bathrooms  YearBuilt     Price   C_Rural  \\\n",
       "SquareFeet    1.000000 -0.002638  -0.003275   0.000482  0.750720 -0.005843   \n",
       "Bedrooms     -0.002638  1.000000   0.007405   0.003147  0.072624  0.005156   \n",
       "Bathrooms    -0.003275  0.007405   1.000000   0.003748  0.028418 -0.003672   \n",
       "YearBuilt     0.000482  0.003147   0.003748   1.000000 -0.002288 -0.001747   \n",
       "Price         0.750720  0.072624   0.028418  -0.002288  1.000000 -0.006793   \n",
       "C_Rural      -0.005843  0.005156  -0.003672  -0.001747 -0.006793  1.000000   \n",
       "C_Suburb     -0.007665 -0.003029   0.004551   0.003793 -0.014831 -0.501434   \n",
       "C_Urban       0.013528 -0.002127  -0.000883  -0.002051  0.021658 -0.498778   \n",
       "\n",
       "            C_Suburb   C_Urban  \n",
       "SquareFeet -0.007665  0.013528  \n",
       "Bedrooms   -0.003029 -0.002127  \n",
       "Bathrooms   0.004551 -0.000883  \n",
       "YearBuilt   0.003793 -0.002051  \n",
       "Price      -0.014831  0.021658  \n",
       "C_Rural    -0.501434 -0.498778  \n",
       "C_Suburb    1.000000 -0.499788  \n",
       "C_Urban    -0.499788  1.000000  "
      ]
     },
     "execution_count": 5,
     "metadata": {},
     "output_type": "execute_result"
    }
   ],
   "source": [
    "correlation = db1.corr()\n",
    "correlation"
   ]
  },
  {
   "cell_type": "code",
   "execution_count": 6,
   "id": "4a7bd37e",
   "metadata": {
    "execution": {
     "iopub.execute_input": "2024-01-10T01:25:02.664635Z",
     "iopub.status.busy": "2024-01-10T01:25:02.663815Z",
     "iopub.status.idle": "2024-01-10T01:25:03.119949Z",
     "shell.execute_reply": "2024-01-10T01:25:03.119010Z"
    },
    "papermill": {
     "duration": 0.471611,
     "end_time": "2024-01-10T01:25:03.121713",
     "exception": false,
     "start_time": "2024-01-10T01:25:02.650102",
     "status": "completed"
    },
    "tags": []
   },
   "outputs": [
    {
     "data": {
      "image/png": "[encoded data removed]",
      "text/plain": [
       "<Figure size 1300x800 with 2 Axes>"
      ]
     },
     "metadata": {},
     "output_type": "display_data"
    }
   ],
   "source": [
    "colors = sns.color_palette('light:salmon', as_cmap=True)\n",
    "mask = np.zeros_like(correlation)\n",
    "mask[np.triu_indices_from(mask)] = True\n",
    "with sns.axes_style('white'):\n",
    "    f, ax = plt.subplots(figsize=(13,8))\n",
    "    ax = sns.heatmap(correlation, cmap = colors, mask=mask, square=True, fmt='.2f', annot = True)"
   ]
  },
  {
   "cell_type": "code",
   "execution_count": 7,
   "id": "0022b857",
   "metadata": {
    "execution": {
     "iopub.execute_input": "2024-01-10T01:25:03.150406Z",
     "iopub.status.busy": "2024-01-10T01:25:03.150037Z",
     "iopub.status.idle": "2024-01-10T01:25:03.853431Z",
     "shell.execute_reply": "2024-01-10T01:25:03.852574Z"
    },
    "papermill": {
     "duration": 0.720001,
     "end_time": "2024-01-10T01:25:03.855395",
     "exception": false,
     "start_time": "2024-01-10T01:25:03.135394",
     "status": "completed"
    },
    "tags": []
   },
   "outputs": [
    {
     "data": {
      "image/png": "[encoded data removed]",
      "text/plain": [
       "<Figure size 2000x1000 with 1 Axes>"
      ]
     },
     "metadata": {},
     "output_type": "display_data"
    }
   ],
   "source": [
    "ax = sns.histplot(data = db1, x= \"Price\", kde = True)\n",
    "ax.figure.set_size_inches(20,10)\n",
    "ax.set_title(\"Prices Histogram\")\n",
    "ax.set_xlabel('Price');"
   ]
  },
  {
   "cell_type": "markdown",
   "id": "06baff6b",
   "metadata": {
    "papermill": {
     "duration": 0.01409,
     "end_time": "2024-01-10T01:25:03.883996",
     "exception": false,
     "start_time": "2024-01-10T01:25:03.869906",
     "status": "completed"
    },
    "tags": []
   },
   "source": [
    "#  **Linear Regression**"
   ]
  },
  {
   "cell_type": "code",
   "execution_count": 8,
   "id": "5c503c1d",
   "metadata": {
    "execution": {
     "iopub.execute_input": "2024-01-10T01:25:03.913916Z",
     "iopub.status.busy": "2024-01-10T01:25:03.913186Z",
     "iopub.status.idle": "2024-01-10T01:25:03.918849Z",
     "shell.execute_reply": "2024-01-10T01:25:03.918216Z"
    },
    "papermill": {
     "duration": 0.022698,
     "end_time": "2024-01-10T01:25:03.920614",
     "exception": false,
     "start_time": "2024-01-10T01:25:03.897916",
     "status": "completed"
    },
    "tags": []
   },
   "outputs": [],
   "source": [
    "#independent variables\n",
    "X = db1.drop('Price', axis = 1)\n",
    "\n",
    "#dependent variable\n",
    "y = db1['Price']"
   ]
  },
  {
   "cell_type": "code",
   "execution_count": 9,
   "id": "80681f91",
   "metadata": {
    "execution": {
     "iopub.execute_input": "2024-01-10T01:25:03.950634Z",
     "iopub.status.busy": "2024-01-10T01:25:03.950081Z",
     "iopub.status.idle": "2024-01-10T01:25:03.961254Z",
     "shell.execute_reply": "2024-01-10T01:25:03.960101Z"
    },
    "papermill": {
     "duration": 0.028866,
     "end_time": "2024-01-10T01:25:03.963632",
     "exception": false,
     "start_time": "2024-01-10T01:25:03.934766",
     "status": "completed"
    },
    "tags": []
   },
   "outputs": [],
   "source": [
    "#division of train and test \n",
    "X_train, X_test, y_train, y_test = train_test_split(X, y, test_size = 0.3, random_state=42)"
   ]
  },
  {
   "cell_type": "code",
   "execution_count": 10,
   "id": "a2d8d4d1",
   "metadata": {
    "execution": {
     "iopub.execute_input": "2024-01-10T01:25:04.046737Z",
     "iopub.status.busy": "2024-01-10T01:25:04.046389Z",
     "iopub.status.idle": "2024-01-10T01:25:04.050977Z",
     "shell.execute_reply": "2024-01-10T01:25:04.049778Z"
    },
    "papermill": {
     "duration": 0.023167,
     "end_time": "2024-01-10T01:25:04.053324",
     "exception": false,
     "start_time": "2024-01-10T01:25:04.030157",
     "status": "completed"
    },
    "tags": []
   },
   "outputs": [],
   "source": [
    "#creating an instance\n",
    "lr = LinearRegression()"
   ]
  },
  {
   "cell_type": "code",
   "execution_count": 11,
   "id": "e50555e9",
   "metadata": {
    "execution": {
     "iopub.execute_input": "2024-01-10T01:25:04.084046Z",
     "iopub.status.busy": "2024-01-10T01:25:04.083694Z",
     "iopub.status.idle": "2024-01-10T01:25:04.119661Z",
     "shell.execute_reply": "2024-01-10T01:25:04.118780Z"
    },
    "papermill": {
     "duration": 0.053546,
     "end_time": "2024-01-10T01:25:04.121524",
     "exception": false,
     "start_time": "2024-01-10T01:25:04.067978",
     "status": "completed"
    },
    "tags": []
   },
   "outputs": [
    {
     "data": {
      "text/html": [
       "<style>#sk-container-id-1 {color: black;background-color: white;}#sk-container-id-1 pre{padding: 0;}#sk-container-id-1 div.sk-toggleable {background-color: white;}#sk-container-id-1 label.sk-toggleable__label {cursor: pointer;display: block;width: 100%;margin-bottom: 0;padding: 0.3em;box-sizing: border-box;text-align: center;}#sk-container-id-1 label.sk-toggleable__label-arrow:before {content: \"▸\";float: left;margin-right: 0.25em;color: #696969;}#sk-container-id-1 label.sk-toggleable__label-arrow:hover:before {color: black;}#sk-container-id-1 div.sk-estimator:hover label.sk-toggleable__label-arrow:before {color: black;}#sk-container-id-1 div.sk-toggleable__content {max-height: 0;max-width: 0;overflow: hidden;text-align: left;background-color: #f0f8ff;}#sk-container-id-1 div.sk-toggleable__content pre {margin: 0.2em;color: black;border-radius: 0.25em;background-color: #f0f8ff;}#sk-container-id-1 input.sk-toggleable__control:checked~div.sk-toggleable__content {max-height: 200px;max-width: 100%;overflow: auto;}#sk-container-id-1 input.sk-toggleable__control:checked~label.sk-toggleable__label-arrow:before {content: \"▾\";}#sk-container-id-1 div.sk-estimator input.sk-toggleable__control:checked~label.sk-toggleable__label {background-color: #d4ebff;}#sk-container-id-1 div.sk-label input.sk-toggleable__control:checked~label.sk-toggleable__label {background-color: #d4ebff;}#sk-container-id-1 input.sk-hidden--visually {border: 0;clip: rect(1px 1px 1px 1px);clip: rect(1px, 1px, 1px, 1px);height: 1px;margin: -1px;overflow: hidden;padding: 0;position: absolute;width: 1px;}#sk-container-id-1 div.sk-estimator {font-family: monospace;background-color: #f0f8ff;border: 1px dotted black;border-radius: 0.25em;box-sizing: border-box;margin-bottom: 0.5em;}#sk-container-id-1 div.sk-estimator:hover {background-color: #d4ebff;}#sk-container-id-1 div.sk-parallel-item::after {content: \"\";width: 100%;border-bottom: 1px solid gray;flex-grow: 1;}#sk-container-id-1 div.sk-label:hover label.sk-toggleable__label {background-color: #d4ebff;}#sk-container-id-1 div.sk-serial::before {content: \"\";position: absolute;border-left: 1px solid gray;box-sizing: border-box;top: 0;bottom: 0;left: 50%;z-index: 0;}#sk-container-id-1 div.sk-serial {display: flex;flex-direction: column;align-items: center;background-color: white;padding-right: 0.2em;padding-left: 0.2em;position: relative;}#sk-container-id-1 div.sk-item {position: relative;z-index: 1;}#sk-container-id-1 div.sk-parallel {display: flex;align-items: stretch;justify-content: center;background-color: white;position: relative;}#sk-container-id-1 div.sk-item::before, #sk-container-id-1 div.sk-parallel-item::before {content: \"\";position: absolute;border-left: 1px solid gray;box-sizing: border-box;top: 0;bottom: 0;left: 50%;z-index: -1;}#sk-container-id-1 div.sk-parallel-item {display: flex;flex-direction: column;z-index: 1;position: relative;background-color: white;}#sk-container-id-1 div.sk-parallel-item:first-child::after {align-self: flex-end;width: 50%;}#sk-container-id-1 div.sk-parallel-item:last-child::after {align-self: flex-start;width: 50%;}#sk-container-id-1 div.sk-parallel-item:only-child::after {width: 0;}#sk-container-id-1 div.sk-dashed-wrapped {border: 1px dashed gray;margin: 0 0.4em 0.5em 0.4em;box-sizing: border-box;padding-bottom: 0.4em;background-color: white;}#sk-container-id-1 div.sk-label label {font-family: monospace;font-weight: bold;display: inline-block;line-height: 1.2em;}#sk-container-id-1 div.sk-label-container {text-align: center;}#sk-container-id-1 div.sk-container {/* jupyter's `normalize.less` sets `[hidden] { display: none; }` but bootstrap.min.css set `[hidden] { display: none !important; }` so we also need the `!important` here to be able to override the default hidden behavior on the sphinx rendered scikit-learn.org. See: https://github.com/scikit-learn/scikit-learn/issues/21755 */display: inline-block !important;position: relative;}#sk-container-id-1 div.sk-text-repr-fallback {display: none;}</style><div id=\"sk-container-id-1\" class=\"sk-top-container\"><div class=\"sk-text-repr-fallback\"><pre>LinearRegression()</pre><b>In a Jupyter environment, please rerun this cell to show the HTML representation or trust the notebook. <br />On GitHub, the HTML representation is unable to render, please try loading this page with nbviewer.org.</b></div><div class=\"sk-container\" hidden><div class=\"sk-item\"><div class=\"sk-estimator sk-toggleable\"><input class=\"sk-toggleable__control sk-hidden--visually\" id=\"sk-estimator-id-1\" type=\"checkbox\" checked><label for=\"sk-estimator-id-1\" class=\"sk-toggleable__label sk-toggleable__label-arrow\">LinearRegression</label><div class=\"sk-toggleable__content\"><pre>LinearRegression()</pre></div></div></div></div></div>"
      ],
      "text/plain": [
       "LinearRegression()"
      ]
     },
     "execution_count": 11,
     "metadata": {},
     "output_type": "execute_result"
    }
   ],
   "source": [
    "#train\n",
    "lr.fit(X_train, y_train)"
   ]
  },
  {
   "cell_type": "code",
   "execution_count": 12,
   "id": "5549d327",
   "metadata": {
    "execution": {
     "iopub.execute_input": "2024-01-10T01:25:04.152398Z",
     "iopub.status.busy": "2024-01-10T01:25:04.152069Z",
     "iopub.status.idle": "2024-01-10T01:25:04.163935Z",
     "shell.execute_reply": "2024-01-10T01:25:04.163165Z"
    },
    "papermill": {
     "duration": 0.030321,
     "end_time": "2024-01-10T01:25:04.166739",
     "exception": false,
     "start_time": "2024-01-10T01:25:04.136418",
     "status": "completed"
    },
    "tags": []
   },
   "outputs": [],
   "source": [
    "#test\n",
    "y_pred_train = lr.predict(X_train)\n",
    "y_pred_test = lr.predict(X_test)"
   ]
  },
  {
   "cell_type": "code",
   "execution_count": 13,
   "id": "5c2a58ed",
   "metadata": {
    "execution": {
     "iopub.execute_input": "2024-01-10T01:25:04.239047Z",
     "iopub.status.busy": "2024-01-10T01:25:04.238336Z",
     "iopub.status.idle": "2024-01-10T01:25:04.244463Z",
     "shell.execute_reply": "2024-01-10T01:25:04.243813Z"
    },
    "papermill": {
     "duration": 0.043508,
     "end_time": "2024-01-10T01:25:04.248865",
     "exception": false,
     "start_time": "2024-01-10T01:25:04.205357",
     "status": "completed"
    },
    "tags": []
   },
   "outputs": [
    {
     "data": {
      "text/plain": [
       "0.5729781112210486"
      ]
     },
     "execution_count": 13,
     "metadata": {},
     "output_type": "execute_result"
    }
   ],
   "source": [
    "r2_lr = r2_score(y_test,y_pred_test)\n",
    "r2_lr"
   ]
  },
  {
   "cell_type": "code",
   "execution_count": 14,
   "id": "9572a4fb",
   "metadata": {
    "execution": {
     "iopub.execute_input": "2024-01-10T01:25:04.286529Z",
     "iopub.status.busy": "2024-01-10T01:25:04.286163Z",
     "iopub.status.idle": "2024-01-10T01:25:04.301113Z",
     "shell.execute_reply": "2024-01-10T01:25:04.299782Z"
    },
    "papermill": {
     "duration": 0.035695,
     "end_time": "2024-01-10T01:25:04.302985",
     "exception": false,
     "start_time": "2024-01-10T01:25:04.267290",
     "status": "completed"
    },
    "tags": []
   },
   "outputs": [
    {
     "data": {
      "text/html": [
       "<div>\n",
       "<style scoped>\n",
       "    .dataframe tbody tr th:only-of-type {\n",
       "        vertical-align: middle;\n",
       "    }\n",
       "\n",
       "    .dataframe tbody tr th {\n",
       "        vertical-align: top;\n",
       "    }\n",
       "\n",
       "    .dataframe thead th {\n",
       "        text-align: right;\n",
       "    }\n",
       "</style>\n",
       "<table border=\"1\" class=\"dataframe\">\n",
       "  <thead>\n",
       "    <tr style=\"text-align: right;\">\n",
       "      <th></th>\n",
       "      <th>SquareFeet</th>\n",
       "      <th>Bedrooms</th>\n",
       "      <th>Bathrooms</th>\n",
       "      <th>YearBuilt</th>\n",
       "      <th>Price</th>\n",
       "      <th>C_Rural</th>\n",
       "      <th>C_Suburb</th>\n",
       "      <th>C_Urban</th>\n",
       "      <th>prediction</th>\n",
       "    </tr>\n",
       "  </thead>\n",
       "  <tbody>\n",
       "    <tr>\n",
       "      <th>0</th>\n",
       "      <td>2126</td>\n",
       "      <td>4</td>\n",
       "      <td>1</td>\n",
       "      <td>1969</td>\n",
       "      <td>215355.283618</td>\n",
       "      <td>True</td>\n",
       "      <td>False</td>\n",
       "      <td>False</td>\n",
       "      <td>181824.122849</td>\n",
       "    </tr>\n",
       "    <tr>\n",
       "      <th>1</th>\n",
       "      <td>2459</td>\n",
       "      <td>3</td>\n",
       "      <td>2</td>\n",
       "      <td>1980</td>\n",
       "      <td>195014.221626</td>\n",
       "      <td>True</td>\n",
       "      <td>False</td>\n",
       "      <td>False</td>\n",
       "      <td>224881.607672</td>\n",
       "    </tr>\n",
       "    <tr>\n",
       "      <th>2</th>\n",
       "      <td>1860</td>\n",
       "      <td>2</td>\n",
       "      <td>1</td>\n",
       "      <td>1970</td>\n",
       "      <td>306891.012076</td>\n",
       "      <td>False</td>\n",
       "      <td>True</td>\n",
       "      <td>False</td>\n",
       "      <td>169437.274051</td>\n",
       "    </tr>\n",
       "    <tr>\n",
       "      <th>3</th>\n",
       "      <td>2294</td>\n",
       "      <td>2</td>\n",
       "      <td>1</td>\n",
       "      <td>1996</td>\n",
       "      <td>206786.787153</td>\n",
       "      <td>False</td>\n",
       "      <td>False</td>\n",
       "      <td>True</td>\n",
       "      <td>161670.823621</td>\n",
       "    </tr>\n",
       "    <tr>\n",
       "      <th>4</th>\n",
       "      <td>2130</td>\n",
       "      <td>5</td>\n",
       "      <td>2</td>\n",
       "      <td>2001</td>\n",
       "      <td>272436.239065</td>\n",
       "      <td>False</td>\n",
       "      <td>True</td>\n",
       "      <td>False</td>\n",
       "      <td>196693.579129</td>\n",
       "    </tr>\n",
       "    <tr>\n",
       "      <th>...</th>\n",
       "      <td>...</td>\n",
       "      <td>...</td>\n",
       "      <td>...</td>\n",
       "      <td>...</td>\n",
       "      <td>...</td>\n",
       "      <td>...</td>\n",
       "      <td>...</td>\n",
       "      <td>...</td>\n",
       "      <td>...</td>\n",
       "    </tr>\n",
       "    <tr>\n",
       "      <th>49995</th>\n",
       "      <td>1282</td>\n",
       "      <td>5</td>\n",
       "      <td>3</td>\n",
       "      <td>1975</td>\n",
       "      <td>100080.865895</td>\n",
       "      <td>True</td>\n",
       "      <td>False</td>\n",
       "      <td>False</td>\n",
       "      <td>283495.784367</td>\n",
       "    </tr>\n",
       "    <tr>\n",
       "      <th>49996</th>\n",
       "      <td>2854</td>\n",
       "      <td>2</td>\n",
       "      <td>2</td>\n",
       "      <td>1988</td>\n",
       "      <td>374507.656727</td>\n",
       "      <td>False</td>\n",
       "      <td>True</td>\n",
       "      <td>False</td>\n",
       "      <td>140691.041653</td>\n",
       "    </tr>\n",
       "    <tr>\n",
       "      <th>49997</th>\n",
       "      <td>2979</td>\n",
       "      <td>5</td>\n",
       "      <td>3</td>\n",
       "      <td>1962</td>\n",
       "      <td>384110.555590</td>\n",
       "      <td>False</td>\n",
       "      <td>True</td>\n",
       "      <td>False</td>\n",
       "      <td>314300.100198</td>\n",
       "    </tr>\n",
       "    <tr>\n",
       "      <th>49998</th>\n",
       "      <td>2596</td>\n",
       "      <td>5</td>\n",
       "      <td>2</td>\n",
       "      <td>1984</td>\n",
       "      <td>380512.685957</td>\n",
       "      <td>True</td>\n",
       "      <td>False</td>\n",
       "      <td>False</td>\n",
       "      <td>163125.915362</td>\n",
       "    </tr>\n",
       "    <tr>\n",
       "      <th>49999</th>\n",
       "      <td>1572</td>\n",
       "      <td>5</td>\n",
       "      <td>3</td>\n",
       "      <td>2011</td>\n",
       "      <td>221618.583218</td>\n",
       "      <td>True</td>\n",
       "      <td>False</td>\n",
       "      <td>False</td>\n",
       "      <td>234735.211978</td>\n",
       "    </tr>\n",
       "  </tbody>\n",
       "</table>\n",
       "<p>50000 rows × 9 columns</p>\n",
       "</div>"
      ],
      "text/plain": [
       "       SquareFeet  Bedrooms  Bathrooms  YearBuilt          Price  C_Rural  \\\n",
       "0            2126         4          1       1969  215355.283618     True   \n",
       "1            2459         3          2       1980  195014.221626     True   \n",
       "2            1860         2          1       1970  306891.012076    False   \n",
       "3            2294         2          1       1996  206786.787153    False   \n",
       "4            2130         5          2       2001  272436.239065    False   \n",
       "...           ...       ...        ...        ...            ...      ...   \n",
       "49995        1282         5          3       1975  100080.865895     True   \n",
       "49996        2854         2          2       1988  374507.656727    False   \n",
       "49997        2979         5          3       1962  384110.555590    False   \n",
       "49998        2596         5          2       1984  380512.685957     True   \n",
       "49999        1572         5          3       2011  221618.583218     True   \n",
       "\n",
       "       C_Suburb  C_Urban     prediction  \n",
       "0         False    False  181824.122849  \n",
       "1         False    False  224881.607672  \n",
       "2          True    False  169437.274051  \n",
       "3         False     True  161670.823621  \n",
       "4          True    False  196693.579129  \n",
       "...         ...      ...            ...  \n",
       "49995     False    False  283495.784367  \n",
       "49996      True    False  140691.041653  \n",
       "49997      True    False  314300.100198  \n",
       "49998     False    False  163125.915362  \n",
       "49999     False    False  234735.211978  \n",
       "\n",
       "[50000 rows x 9 columns]"
      ]
     },
     "execution_count": 14,
     "metadata": {},
     "output_type": "execute_result"
    }
   ],
   "source": [
    "#test\n",
    "db1['prediction'] = np.hstack([y_pred_train, y_pred_test])\n",
    "db1"
   ]
  },
  {
   "cell_type": "code",
   "execution_count": 15,
   "id": "3bd571bf",
   "metadata": {
    "execution": {
     "iopub.execute_input": "2024-01-10T01:25:04.333774Z",
     "iopub.status.busy": "2024-01-10T01:25:04.333157Z",
     "iopub.status.idle": "2024-01-10T01:25:04.347505Z",
     "shell.execute_reply": "2024-01-10T01:25:04.346829Z"
    },
    "papermill": {
     "duration": 0.031539,
     "end_time": "2024-01-10T01:25:04.349124",
     "exception": false,
     "start_time": "2024-01-10T01:25:04.317585",
     "status": "completed"
    },
    "tags": []
   },
   "outputs": [
    {
     "data": {
      "text/html": [
       "<div>\n",
       "<style scoped>\n",
       "    .dataframe tbody tr th:only-of-type {\n",
       "        vertical-align: middle;\n",
       "    }\n",
       "\n",
       "    .dataframe tbody tr th {\n",
       "        vertical-align: top;\n",
       "    }\n",
       "\n",
       "    .dataframe thead th {\n",
       "        text-align: right;\n",
       "    }\n",
       "</style>\n",
       "<table border=\"1\" class=\"dataframe\">\n",
       "  <thead>\n",
       "    <tr style=\"text-align: right;\">\n",
       "      <th></th>\n",
       "      <th>SquareFeet</th>\n",
       "      <th>Bedrooms</th>\n",
       "      <th>Bathrooms</th>\n",
       "      <th>YearBuilt</th>\n",
       "      <th>Price</th>\n",
       "      <th>C_Rural</th>\n",
       "      <th>C_Suburb</th>\n",
       "      <th>C_Urban</th>\n",
       "      <th>prediction</th>\n",
       "      <th>error</th>\n",
       "    </tr>\n",
       "  </thead>\n",
       "  <tbody>\n",
       "    <tr>\n",
       "      <th>0</th>\n",
       "      <td>2126</td>\n",
       "      <td>4</td>\n",
       "      <td>1</td>\n",
       "      <td>1969</td>\n",
       "      <td>215355.283618</td>\n",
       "      <td>True</td>\n",
       "      <td>False</td>\n",
       "      <td>False</td>\n",
       "      <td>181824.122849</td>\n",
       "      <td>33531.160769</td>\n",
       "    </tr>\n",
       "    <tr>\n",
       "      <th>1</th>\n",
       "      <td>2459</td>\n",
       "      <td>3</td>\n",
       "      <td>2</td>\n",
       "      <td>1980</td>\n",
       "      <td>195014.221626</td>\n",
       "      <td>True</td>\n",
       "      <td>False</td>\n",
       "      <td>False</td>\n",
       "      <td>224881.607672</td>\n",
       "      <td>-29867.386046</td>\n",
       "    </tr>\n",
       "    <tr>\n",
       "      <th>2</th>\n",
       "      <td>1860</td>\n",
       "      <td>2</td>\n",
       "      <td>1</td>\n",
       "      <td>1970</td>\n",
       "      <td>306891.012076</td>\n",
       "      <td>False</td>\n",
       "      <td>True</td>\n",
       "      <td>False</td>\n",
       "      <td>169437.274051</td>\n",
       "      <td>137453.738025</td>\n",
       "    </tr>\n",
       "    <tr>\n",
       "      <th>3</th>\n",
       "      <td>2294</td>\n",
       "      <td>2</td>\n",
       "      <td>1</td>\n",
       "      <td>1996</td>\n",
       "      <td>206786.787153</td>\n",
       "      <td>False</td>\n",
       "      <td>False</td>\n",
       "      <td>True</td>\n",
       "      <td>161670.823621</td>\n",
       "      <td>45115.963532</td>\n",
       "    </tr>\n",
       "    <tr>\n",
       "      <th>4</th>\n",
       "      <td>2130</td>\n",
       "      <td>5</td>\n",
       "      <td>2</td>\n",
       "      <td>2001</td>\n",
       "      <td>272436.239065</td>\n",
       "      <td>False</td>\n",
       "      <td>True</td>\n",
       "      <td>False</td>\n",
       "      <td>196693.579129</td>\n",
       "      <td>75742.659936</td>\n",
       "    </tr>\n",
       "    <tr>\n",
       "      <th>...</th>\n",
       "      <td>...</td>\n",
       "      <td>...</td>\n",
       "      <td>...</td>\n",
       "      <td>...</td>\n",
       "      <td>...</td>\n",
       "      <td>...</td>\n",
       "      <td>...</td>\n",
       "      <td>...</td>\n",
       "      <td>...</td>\n",
       "      <td>...</td>\n",
       "    </tr>\n",
       "    <tr>\n",
       "      <th>49995</th>\n",
       "      <td>1282</td>\n",
       "      <td>5</td>\n",
       "      <td>3</td>\n",
       "      <td>1975</td>\n",
       "      <td>100080.865895</td>\n",
       "      <td>True</td>\n",
       "      <td>False</td>\n",
       "      <td>False</td>\n",
       "      <td>283495.784367</td>\n",
       "      <td>-183414.918472</td>\n",
       "    </tr>\n",
       "    <tr>\n",
       "      <th>49996</th>\n",
       "      <td>2854</td>\n",
       "      <td>2</td>\n",
       "      <td>2</td>\n",
       "      <td>1988</td>\n",
       "      <td>374507.656727</td>\n",
       "      <td>False</td>\n",
       "      <td>True</td>\n",
       "      <td>False</td>\n",
       "      <td>140691.041653</td>\n",
       "      <td>233816.615074</td>\n",
       "    </tr>\n",
       "    <tr>\n",
       "      <th>49997</th>\n",
       "      <td>2979</td>\n",
       "      <td>5</td>\n",
       "      <td>3</td>\n",
       "      <td>1962</td>\n",
       "      <td>384110.555590</td>\n",
       "      <td>False</td>\n",
       "      <td>True</td>\n",
       "      <td>False</td>\n",
       "      <td>314300.100198</td>\n",
       "      <td>69810.455392</td>\n",
       "    </tr>\n",
       "    <tr>\n",
       "      <th>49998</th>\n",
       "      <td>2596</td>\n",
       "      <td>5</td>\n",
       "      <td>2</td>\n",
       "      <td>1984</td>\n",
       "      <td>380512.685957</td>\n",
       "      <td>True</td>\n",
       "      <td>False</td>\n",
       "      <td>False</td>\n",
       "      <td>163125.915362</td>\n",
       "      <td>217386.770595</td>\n",
       "    </tr>\n",
       "    <tr>\n",
       "      <th>49999</th>\n",
       "      <td>1572</td>\n",
       "      <td>5</td>\n",
       "      <td>3</td>\n",
       "      <td>2011</td>\n",
       "      <td>221618.583218</td>\n",
       "      <td>True</td>\n",
       "      <td>False</td>\n",
       "      <td>False</td>\n",
       "      <td>234735.211978</td>\n",
       "      <td>-13116.628760</td>\n",
       "    </tr>\n",
       "  </tbody>\n",
       "</table>\n",
       "<p>50000 rows × 10 columns</p>\n",
       "</div>"
      ],
      "text/plain": [
       "       SquareFeet  Bedrooms  Bathrooms  YearBuilt          Price  C_Rural  \\\n",
       "0            2126         4          1       1969  215355.283618     True   \n",
       "1            2459         3          2       1980  195014.221626     True   \n",
       "2            1860         2          1       1970  306891.012076    False   \n",
       "3            2294         2          1       1996  206786.787153    False   \n",
       "4            2130         5          2       2001  272436.239065    False   \n",
       "...           ...       ...        ...        ...            ...      ...   \n",
       "49995        1282         5          3       1975  100080.865895     True   \n",
       "49996        2854         2          2       1988  374507.656727    False   \n",
       "49997        2979         5          3       1962  384110.555590    False   \n",
       "49998        2596         5          2       1984  380512.685957     True   \n",
       "49999        1572         5          3       2011  221618.583218     True   \n",
       "\n",
       "       C_Suburb  C_Urban     prediction          error  \n",
       "0         False    False  181824.122849   33531.160769  \n",
       "1         False    False  224881.607672  -29867.386046  \n",
       "2          True    False  169437.274051  137453.738025  \n",
       "3         False     True  161670.823621   45115.963532  \n",
       "4          True    False  196693.579129   75742.659936  \n",
       "...         ...      ...            ...            ...  \n",
       "49995     False    False  283495.784367 -183414.918472  \n",
       "49996      True    False  140691.041653  233816.615074  \n",
       "49997      True    False  314300.100198   69810.455392  \n",
       "49998     False    False  163125.915362  217386.770595  \n",
       "49999     False    False  234735.211978  -13116.628760  \n",
       "\n",
       "[50000 rows x 10 columns]"
      ]
     },
     "execution_count": 15,
     "metadata": {},
     "output_type": "execute_result"
    }
   ],
   "source": [
    "db1['error'] =  db1['Price'] - db1['prediction'] \n",
    "db1"
   ]
  },
  {
   "cell_type": "markdown",
   "id": "4508abff",
   "metadata": {
    "papermill": {
     "duration": 0.014696,
     "end_time": "2024-01-10T01:25:04.379774",
     "exception": false,
     "start_time": "2024-01-10T01:25:04.365078",
     "status": "completed"
    },
    "tags": []
   },
   "source": [
    "# **Decision Tree**"
   ]
  },
  {
   "cell_type": "code",
   "execution_count": 16,
   "id": "3bdb1694",
   "metadata": {
    "execution": {
     "iopub.execute_input": "2024-01-10T01:25:04.411808Z",
     "iopub.status.busy": "2024-01-10T01:25:04.411450Z",
     "iopub.status.idle": "2024-01-10T01:25:04.508753Z",
     "shell.execute_reply": "2024-01-10T01:25:04.507704Z"
    },
    "papermill": {
     "duration": 0.116898,
     "end_time": "2024-01-10T01:25:04.511444",
     "exception": false,
     "start_time": "2024-01-10T01:25:04.394546",
     "status": "completed"
    },
    "tags": []
   },
   "outputs": [],
   "source": [
    "#importing the decision tree for regression (non categorical data)\n",
    "from sklearn.tree import DecisionTreeRegressor"
   ]
  },
  {
   "cell_type": "code",
   "execution_count": 17,
   "id": "779026b1",
   "metadata": {
    "execution": {
     "iopub.execute_input": "2024-01-10T01:25:04.544877Z",
     "iopub.status.busy": "2024-01-10T01:25:04.544295Z",
     "iopub.status.idle": "2024-01-10T01:25:04.548897Z",
     "shell.execute_reply": "2024-01-10T01:25:04.547552Z"
    },
    "papermill": {
     "duration": 0.024773,
     "end_time": "2024-01-10T01:25:04.551218",
     "exception": false,
     "start_time": "2024-01-10T01:25:04.526445",
     "status": "completed"
    },
    "tags": []
   },
   "outputs": [],
   "source": [
    "#instance the model\n",
    "dtr = DecisionTreeRegressor(random_state = 42,max_depth=5)\n"
   ]
  },
  {
   "cell_type": "code",
   "execution_count": 18,
   "id": "09493d93",
   "metadata": {
    "execution": {
     "iopub.execute_input": "2024-01-10T01:25:04.584029Z",
     "iopub.status.busy": "2024-01-10T01:25:04.583682Z",
     "iopub.status.idle": "2024-01-10T01:25:04.631687Z",
     "shell.execute_reply": "2024-01-10T01:25:04.630631Z"
    },
    "papermill": {
     "duration": 0.066658,
     "end_time": "2024-01-10T01:25:04.633770",
     "exception": false,
     "start_time": "2024-01-10T01:25:04.567112",
     "status": "completed"
    },
    "tags": []
   },
   "outputs": [
    {
     "data": {
      "text/html": [
       "<style>#sk-container-id-2 {color: black;background-color: white;}#sk-container-id-2 pre{padding: 0;}#sk-container-id-2 div.sk-toggleable {background-color: white;}#sk-container-id-2 label.sk-toggleable__label {cursor: pointer;display: block;width: 100%;margin-bottom: 0;padding: 0.3em;box-sizing: border-box;text-align: center;}#sk-container-id-2 label.sk-toggleable__label-arrow:before {content: \"▸\";float: left;margin-right: 0.25em;color: #696969;}#sk-container-id-2 label.sk-toggleable__label-arrow:hover:before {color: black;}#sk-container-id-2 div.sk-estimator:hover label.sk-toggleable__label-arrow:before {color: black;}#sk-container-id-2 div.sk-toggleable__content {max-height: 0;max-width: 0;overflow: hidden;text-align: left;background-color: #f0f8ff;}#sk-container-id-2 div.sk-toggleable__content pre {margin: 0.2em;color: black;border-radius: 0.25em;background-color: #f0f8ff;}#sk-container-id-2 input.sk-toggleable__control:checked~div.sk-toggleable__content {max-height: 200px;max-width: 100%;overflow: auto;}#sk-container-id-2 input.sk-toggleable__control:checked~label.sk-toggleable__label-arrow:before {content: \"▾\";}#sk-container-id-2 div.sk-estimator input.sk-toggleable__control:checked~label.sk-toggleable__label {background-color: #d4ebff;}#sk-container-id-2 div.sk-label input.sk-toggleable__control:checked~label.sk-toggleable__label {background-color: #d4ebff;}#sk-container-id-2 input.sk-hidden--visually {border: 0;clip: rect(1px 1px 1px 1px);clip: rect(1px, 1px, 1px, 1px);height: 1px;margin: -1px;overflow: hidden;padding: 0;position: absolute;width: 1px;}#sk-container-id-2 div.sk-estimator {font-family: monospace;background-color: #f0f8ff;border: 1px dotted black;border-radius: 0.25em;box-sizing: border-box;margin-bottom: 0.5em;}#sk-container-id-2 div.sk-estimator:hover {background-color: #d4ebff;}#sk-container-id-2 div.sk-parallel-item::after {content: \"\";width: 100%;border-bottom: 1px solid gray;flex-grow: 1;}#sk-container-id-2 div.sk-label:hover label.sk-toggleable__label {background-color: #d4ebff;}#sk-container-id-2 div.sk-serial::before {content: \"\";position: absolute;border-left: 1px solid gray;box-sizing: border-box;top: 0;bottom: 0;left: 50%;z-index: 0;}#sk-container-id-2 div.sk-serial {display: flex;flex-direction: column;align-items: center;background-color: white;padding-right: 0.2em;padding-left: 0.2em;position: relative;}#sk-container-id-2 div.sk-item {position: relative;z-index: 1;}#sk-container-id-2 div.sk-parallel {display: flex;align-items: stretch;justify-content: center;background-color: white;position: relative;}#sk-container-id-2 div.sk-item::before, #sk-container-id-2 div.sk-parallel-item::before {content: \"\";position: absolute;border-left: 1px solid gray;box-sizing: border-box;top: 0;bottom: 0;left: 50%;z-index: -1;}#sk-container-id-2 div.sk-parallel-item {display: flex;flex-direction: column;z-index: 1;position: relative;background-color: white;}#sk-container-id-2 div.sk-parallel-item:first-child::after {align-self: flex-end;width: 50%;}#sk-container-id-2 div.sk-parallel-item:last-child::after {align-self: flex-start;width: 50%;}#sk-container-id-2 div.sk-parallel-item:only-child::after {width: 0;}#sk-container-id-2 div.sk-dashed-wrapped {border: 1px dashed gray;margin: 0 0.4em 0.5em 0.4em;box-sizing: border-box;padding-bottom: 0.4em;background-color: white;}#sk-container-id-2 div.sk-label label {font-family: monospace;font-weight: bold;display: inline-block;line-height: 1.2em;}#sk-container-id-2 div.sk-label-container {text-align: center;}#sk-container-id-2 div.sk-container {/* jupyter's `normalize.less` sets `[hidden] { display: none; }` but bootstrap.min.css set `[hidden] { display: none !important; }` so we also need the `!important` here to be able to override the default hidden behavior on the sphinx rendered scikit-learn.org. See: https://github.com/scikit-learn/scikit-learn/issues/21755 */display: inline-block !important;position: relative;}#sk-container-id-2 div.sk-text-repr-fallback {display: none;}</style><div id=\"sk-container-id-2\" class=\"sk-top-container\"><div class=\"sk-text-repr-fallback\"><pre>DecisionTreeRegressor(max_depth=5, random_state=42)</pre><b>In a Jupyter environment, please rerun this cell to show the HTML representation or trust the notebook. <br />On GitHub, the HTML representation is unable to render, please try loading this page with nbviewer.org.</b></div><div class=\"sk-container\" hidden><div class=\"sk-item\"><div class=\"sk-estimator sk-toggleable\"><input class=\"sk-toggleable__control sk-hidden--visually\" id=\"sk-estimator-id-2\" type=\"checkbox\" checked><label for=\"sk-estimator-id-2\" class=\"sk-toggleable__label sk-toggleable__label-arrow\">DecisionTreeRegressor</label><div class=\"sk-toggleable__content\"><pre>DecisionTreeRegressor(max_depth=5, random_state=42)</pre></div></div></div></div></div>"
      ],
      "text/plain": [
       "DecisionTreeRegressor(max_depth=5, random_state=42)"
      ]
     },
     "execution_count": 18,
     "metadata": {},
     "output_type": "execute_result"
    }
   ],
   "source": [
    "#train\n",
    "dtr.fit(X_train, y_train)"
   ]
  },
  {
   "cell_type": "code",
   "execution_count": 19,
   "id": "5a73eb69",
   "metadata": {
    "execution": {
     "iopub.execute_input": "2024-01-10T01:25:04.665833Z",
     "iopub.status.busy": "2024-01-10T01:25:04.665442Z",
     "iopub.status.idle": "2024-01-10T01:25:04.675174Z",
     "shell.execute_reply": "2024-01-10T01:25:04.673617Z"
    },
    "papermill": {
     "duration": 0.02842,
     "end_time": "2024-01-10T01:25:04.677635",
     "exception": false,
     "start_time": "2024-01-10T01:25:04.649215",
     "status": "completed"
    },
    "tags": []
   },
   "outputs": [
    {
     "data": {
      "text/plain": [
       "array([222839.12179687, 132684.41975929, 246641.23597738, ...,\n",
       "       310858.21247737, 161095.99736179, 227807.79942599])"
      ]
     },
     "execution_count": 19,
     "metadata": {},
     "output_type": "execute_result"
    }
   ],
   "source": [
    "#test\n",
    "predict_dtr = dtr.predict(X_test)\n",
    "predict_dtr"
   ]
  },
  {
   "cell_type": "code",
   "execution_count": 20,
   "id": "c6ffe46e",
   "metadata": {
    "execution": {
     "iopub.execute_input": "2024-01-10T01:25:04.714645Z",
     "iopub.status.busy": "2024-01-10T01:25:04.713560Z",
     "iopub.status.idle": "2024-01-10T01:25:05.411355Z",
     "shell.execute_reply": "2024-01-10T01:25:05.410064Z"
    },
    "papermill": {
     "duration": 0.718401,
     "end_time": "2024-01-10T01:25:05.413248",
     "exception": false,
     "start_time": "2024-01-10T01:25:04.694847",
     "status": "completed"
    },
    "tags": []
   },
   "outputs": [
    {
     "name": "stderr",
     "output_type": "stream",
     "text": [
      "/opt/conda/lib/python3.10/site-packages/sklearn/base.py:439: UserWarning: X does not have valid feature names, but DecisionTreeRegressor was fitted with feature names\n",
      "  warnings.warn(\n"
     ]
    },
    {
     "data": {
      "image/png": "[encoded data removed]",
      "text/plain": [
       "<Figure size 1000x1000 with 1 Axes>"
      ]
     },
     "metadata": {},
     "output_type": "display_data"
    },
    {
     "data": {
      "text/plain": [
       "<Axes: title={'center': 'Prediction Error for DecisionTreeRegressor'}, xlabel='$y$', ylabel='$\\\\hat{y}$'>"
      ]
     },
     "execution_count": 20,
     "metadata": {},
     "output_type": "execute_result"
    }
   ],
   "source": [
    "from yellowbrick.regressor import PredictionError\n",
    "\n",
    "fig, ax = plt.subplots(figsize = (10,10))\n",
    "pev = PredictionError(dtr)\n",
    "pev.fit(X_train, y_train)\n",
    "pev.score(X_test, y_test)\n",
    "pev.poof()"
   ]
  },
  {
   "cell_type": "code",
   "execution_count": 21,
   "id": "07ed267d",
   "metadata": {
    "execution": {
     "iopub.execute_input": "2024-01-10T01:25:05.448575Z",
     "iopub.status.busy": "2024-01-10T01:25:05.448217Z",
     "iopub.status.idle": "2024-01-10T01:25:05.456606Z",
     "shell.execute_reply": "2024-01-10T01:25:05.455703Z"
    },
    "papermill": {
     "duration": 0.028898,
     "end_time": "2024-01-10T01:25:05.459061",
     "exception": false,
     "start_time": "2024-01-10T01:25:05.430163",
     "status": "completed"
    },
    "tags": []
   },
   "outputs": [
    {
     "data": {
      "text/plain": [
       "0.5674239406955558"
      ]
     },
     "execution_count": 21,
     "metadata": {},
     "output_type": "execute_result"
    }
   ],
   "source": [
    "r2_dtr = r2_score(y_test, predict_dtr)\n",
    "r2_dtr"
   ]
  },
  {
   "cell_type": "markdown",
   "id": "8f39dbb0",
   "metadata": {
    "papermill": {
     "duration": 0.016877,
     "end_time": "2024-01-10T01:25:05.493078",
     "exception": false,
     "start_time": "2024-01-10T01:25:05.476201",
     "status": "completed"
    },
    "tags": []
   },
   "source": [
    "# **Random Forest**\n",
    "* Reduces overfitting\n",
    "* Deals ok with missing data (flexibility)\n",
    "* good accuracy\n",
    "* Good to work with big volume of data\n",
    "\n",
    "n_estimators: quantity of trees on the forest\n",
    "\n"
   ]
  },
  {
   "cell_type": "code",
   "execution_count": 22,
   "id": "91279a52",
   "metadata": {
    "execution": {
     "iopub.execute_input": "2024-01-10T01:25:05.529310Z",
     "iopub.status.busy": "2024-01-10T01:25:05.529000Z",
     "iopub.status.idle": "2024-01-10T01:25:05.605306Z",
     "shell.execute_reply": "2024-01-10T01:25:05.603721Z"
    },
    "papermill": {
     "duration": 0.097616,
     "end_time": "2024-01-10T01:25:05.608012",
     "exception": false,
     "start_time": "2024-01-10T01:25:05.510396",
     "status": "completed"
    },
    "tags": []
   },
   "outputs": [],
   "source": [
    "from sklearn.ensemble import RandomForestRegressor\n"
   ]
  },
  {
   "cell_type": "code",
   "execution_count": 23,
   "id": "f345a7e4",
   "metadata": {
    "execution": {
     "iopub.execute_input": "2024-01-10T01:25:05.645145Z",
     "iopub.status.busy": "2024-01-10T01:25:05.643945Z",
     "iopub.status.idle": "2024-01-10T01:25:05.649066Z",
     "shell.execute_reply": "2024-01-10T01:25:05.648168Z"
    },
    "papermill": {
     "duration": 0.025943,
     "end_time": "2024-01-10T01:25:05.651297",
     "exception": false,
     "start_time": "2024-01-10T01:25:05.625354",
     "status": "completed"
    },
    "tags": []
   },
   "outputs": [],
   "source": [
    "rf = RandomForestRegressor(random_state=42,max_depth= 5, n_estimators =10)"
   ]
  },
  {
   "cell_type": "code",
   "execution_count": 24,
   "id": "1e9f219a",
   "metadata": {
    "execution": {
     "iopub.execute_input": "2024-01-10T01:25:05.691563Z",
     "iopub.status.busy": "2024-01-10T01:25:05.689873Z",
     "iopub.status.idle": "2024-01-10T01:25:05.975563Z",
     "shell.execute_reply": "2024-01-10T01:25:05.974297Z"
    },
    "papermill": {
     "duration": 0.30829,
     "end_time": "2024-01-10T01:25:05.977578",
     "exception": false,
     "start_time": "2024-01-10T01:25:05.669288",
     "status": "completed"
    },
    "tags": []
   },
   "outputs": [
    {
     "data": {
      "text/html": [
       "<style>#sk-container-id-3 {color: black;background-color: white;}#sk-container-id-3 pre{padding: 0;}#sk-container-id-3 div.sk-toggleable {background-color: white;}#sk-container-id-3 label.sk-toggleable__label {cursor: pointer;display: block;width: 100%;margin-bottom: 0;padding: 0.3em;box-sizing: border-box;text-align: center;}#sk-container-id-3 label.sk-toggleable__label-arrow:before {content: \"▸\";float: left;margin-right: 0.25em;color: #696969;}#sk-container-id-3 label.sk-toggleable__label-arrow:hover:before {color: black;}#sk-container-id-3 div.sk-estimator:hover label.sk-toggleable__label-arrow:before {color: black;}#sk-container-id-3 div.sk-toggleable__content {max-height: 0;max-width: 0;overflow: hidden;text-align: left;background-color: #f0f8ff;}#sk-container-id-3 div.sk-toggleable__content pre {margin: 0.2em;color: black;border-radius: 0.25em;background-color: #f0f8ff;}#sk-container-id-3 input.sk-toggleable__control:checked~div.sk-toggleable__content {max-height: 200px;max-width: 100%;overflow: auto;}#sk-container-id-3 input.sk-toggleable__control:checked~label.sk-toggleable__label-arrow:before {content: \"▾\";}#sk-container-id-3 div.sk-estimator input.sk-toggleable__control:checked~label.sk-toggleable__label {background-color: #d4ebff;}#sk-container-id-3 div.sk-label input.sk-toggleable__control:checked~label.sk-toggleable__label {background-color: #d4ebff;}#sk-container-id-3 input.sk-hidden--visually {border: 0;clip: rect(1px 1px 1px 1px);clip: rect(1px, 1px, 1px, 1px);height: 1px;margin: -1px;overflow: hidden;padding: 0;position: absolute;width: 1px;}#sk-container-id-3 div.sk-estimator {font-family: monospace;background-color: #f0f8ff;border: 1px dotted black;border-radius: 0.25em;box-sizing: border-box;margin-bottom: 0.5em;}#sk-container-id-3 div.sk-estimator:hover {background-color: #d4ebff;}#sk-container-id-3 div.sk-parallel-item::after {content: \"\";width: 100%;border-bottom: 1px solid gray;flex-grow: 1;}#sk-container-id-3 div.sk-label:hover label.sk-toggleable__label {background-color: #d4ebff;}#sk-container-id-3 div.sk-serial::before {content: \"\";position: absolute;border-left: 1px solid gray;box-sizing: border-box;top: 0;bottom: 0;left: 50%;z-index: 0;}#sk-container-id-3 div.sk-serial {display: flex;flex-direction: column;align-items: center;background-color: white;padding-right: 0.2em;padding-left: 0.2em;position: relative;}#sk-container-id-3 div.sk-item {position: relative;z-index: 1;}#sk-container-id-3 div.sk-parallel {display: flex;align-items: stretch;justify-content: center;background-color: white;position: relative;}#sk-container-id-3 div.sk-item::before, #sk-container-id-3 div.sk-parallel-item::before {content: \"\";position: absolute;border-left: 1px solid gray;box-sizing: border-box;top: 0;bottom: 0;left: 50%;z-index: -1;}#sk-container-id-3 div.sk-parallel-item {display: flex;flex-direction: column;z-index: 1;position: relative;background-color: white;}#sk-container-id-3 div.sk-parallel-item:first-child::after {align-self: flex-end;width: 50%;}#sk-container-id-3 div.sk-parallel-item:last-child::after {align-self: flex-start;width: 50%;}#sk-container-id-3 div.sk-parallel-item:only-child::after {width: 0;}#sk-container-id-3 div.sk-dashed-wrapped {border: 1px dashed gray;margin: 0 0.4em 0.5em 0.4em;box-sizing: border-box;padding-bottom: 0.4em;background-color: white;}#sk-container-id-3 div.sk-label label {font-family: monospace;font-weight: bold;display: inline-block;line-height: 1.2em;}#sk-container-id-3 div.sk-label-container {text-align: center;}#sk-container-id-3 div.sk-container {/* jupyter's `normalize.less` sets `[hidden] { display: none; }` but bootstrap.min.css set `[hidden] { display: none !important; }` so we also need the `!important` here to be able to override the default hidden behavior on the sphinx rendered scikit-learn.org. See: https://github.com/scikit-learn/scikit-learn/issues/21755 */display: inline-block !important;position: relative;}#sk-container-id-3 div.sk-text-repr-fallback {display: none;}</style><div id=\"sk-container-id-3\" class=\"sk-top-container\"><div class=\"sk-text-repr-fallback\"><pre>RandomForestRegressor(max_depth=5, n_estimators=10, random_state=42)</pre><b>In a Jupyter environment, please rerun this cell to show the HTML representation or trust the notebook. <br />On GitHub, the HTML representation is unable to render, please try loading this page with nbviewer.org.</b></div><div class=\"sk-container\" hidden><div class=\"sk-item\"><div class=\"sk-estimator sk-toggleable\"><input class=\"sk-toggleable__control sk-hidden--visually\" id=\"sk-estimator-id-3\" type=\"checkbox\" checked><label for=\"sk-estimator-id-3\" class=\"sk-toggleable__label sk-toggleable__label-arrow\">RandomForestRegressor</label><div class=\"sk-toggleable__content\"><pre>RandomForestRegressor(max_depth=5, n_estimators=10, random_state=42)</pre></div></div></div></div></div>"
      ],
      "text/plain": [
       "RandomForestRegressor(max_depth=5, n_estimators=10, random_state=42)"
      ]
     },
     "execution_count": 24,
     "metadata": {},
     "output_type": "execute_result"
    }
   ],
   "source": [
    "rf.fit(X_train, y_train)"
   ]
  },
  {
   "cell_type": "code",
   "execution_count": 25,
   "id": "2b3bc313",
   "metadata": {
    "execution": {
     "iopub.execute_input": "2024-01-10T01:25:06.016919Z",
     "iopub.status.busy": "2024-01-10T01:25:06.016590Z",
     "iopub.status.idle": "2024-01-10T01:25:06.033116Z",
     "shell.execute_reply": "2024-01-10T01:25:06.031910Z"
    },
    "papermill": {
     "duration": 0.039168,
     "end_time": "2024-01-10T01:25:06.035430",
     "exception": false,
     "start_time": "2024-01-10T01:25:05.996262",
     "status": "completed"
    },
    "tags": []
   },
   "outputs": [
    {
     "data": {
      "text/plain": [
       "array([215791.88236788, 126864.06948144, 248459.0580536 , ...,\n",
       "       308983.13968116, 164515.66075631, 225783.18815431])"
      ]
     },
     "execution_count": 25,
     "metadata": {},
     "output_type": "execute_result"
    }
   ],
   "source": [
    "predict_rf = rf.predict(X_test)\n",
    "predict_rf"
   ]
  },
  {
   "cell_type": "code",
   "execution_count": 26,
   "id": "3ecb0c8c",
   "metadata": {
    "execution": {
     "iopub.execute_input": "2024-01-10T01:25:06.077377Z",
     "iopub.status.busy": "2024-01-10T01:25:06.076832Z",
     "iopub.status.idle": "2024-01-10T01:25:06.619749Z",
     "shell.execute_reply": "2024-01-10T01:25:06.619121Z"
    },
    "papermill": {
     "duration": 0.565753,
     "end_time": "2024-01-10T01:25:06.622130",
     "exception": false,
     "start_time": "2024-01-10T01:25:06.056377",
     "status": "completed"
    },
    "tags": []
   },
   "outputs": [
    {
     "name": "stderr",
     "output_type": "stream",
     "text": [
      "/opt/conda/lib/python3.10/site-packages/sklearn/base.py:439: UserWarning: X does not have valid feature names, but RandomForestRegressor was fitted with feature names\n",
      "  warnings.warn(\n"
     ]
    },
    {
     "data": {
      "image/png": "[encoded data removed]",
      "text/plain": [
       "<Figure size 1000x1000 with 1 Axes>"
      ]
     },
     "metadata": {},
     "output_type": "display_data"
    },
    {
     "data": {
      "text/plain": [
       "<Axes: title={'center': 'Prediction Error for RandomForestRegressor'}, xlabel='$y$', ylabel='$\\\\hat{y}$'>"
      ]
     },
     "execution_count": 26,
     "metadata": {},
     "output_type": "execute_result"
    }
   ],
   "source": [
    "from yellowbrick.regressor import PredictionError\n",
    "\n",
    "fig, ax = plt.subplots(figsize = (10,10))\n",
    "pev = PredictionError(rf)\n",
    "pev.fit(X_train, y_train)\n",
    "pev.score(X_test, y_test)\n",
    "pev.poof()"
   ]
  },
  {
   "cell_type": "code",
   "execution_count": 27,
   "id": "3c008e25",
   "metadata": {
    "execution": {
     "iopub.execute_input": "2024-01-10T01:25:06.661068Z",
     "iopub.status.busy": "2024-01-10T01:25:06.660515Z",
     "iopub.status.idle": "2024-01-10T01:25:06.667916Z",
     "shell.execute_reply": "2024-01-10T01:25:06.666856Z"
    },
    "papermill": {
     "duration": 0.03014,
     "end_time": "2024-01-10T01:25:06.670947",
     "exception": false,
     "start_time": "2024-01-10T01:25:06.640807",
     "status": "completed"
    },
    "tags": []
   },
   "outputs": [
    {
     "data": {
      "text/plain": [
       "0.5706695876734444"
      ]
     },
     "execution_count": 27,
     "metadata": {},
     "output_type": "execute_result"
    }
   ],
   "source": [
    "#coefficient of determination\n",
    "r2_rf = r2_score(y_test, predict_rf)\n",
    "r2_rf"
   ]
  },
  {
   "cell_type": "markdown",
   "id": "b797b136",
   "metadata": {
    "papermill": {
     "duration": 0.020632,
     "end_time": "2024-01-10T01:25:06.711396",
     "exception": false,
     "start_time": "2024-01-10T01:25:06.690764",
     "status": "completed"
    },
    "tags": []
   },
   "source": [
    "# Comparing the three models"
   ]
  },
  {
   "cell_type": "code",
   "execution_count": 28,
   "id": "23460d18",
   "metadata": {
    "execution": {
     "iopub.execute_input": "2024-01-10T01:25:06.751460Z",
     "iopub.status.busy": "2024-01-10T01:25:06.751144Z",
     "iopub.status.idle": "2024-01-10T01:25:06.756300Z",
     "shell.execute_reply": "2024-01-10T01:25:06.754751Z"
    },
    "papermill": {
     "duration": 0.028333,
     "end_time": "2024-01-10T01:25:06.759122",
     "exception": false,
     "start_time": "2024-01-10T01:25:06.730789",
     "status": "completed"
    },
    "tags": []
   },
   "outputs": [],
   "source": [
    "#comparing\n",
    "\n",
    "# Importando os métodos que serão utilizados\n",
    "from sklearn.metrics import r2_score, mean_squared_error, mean_absolute_error\n",
    "\n"
   ]
  },
  {
   "cell_type": "code",
   "execution_count": 29,
   "id": "16807318",
   "metadata": {
    "execution": {
     "iopub.execute_input": "2024-01-10T01:25:06.801593Z",
     "iopub.status.busy": "2024-01-10T01:25:06.801236Z",
     "iopub.status.idle": "2024-01-10T01:25:06.806617Z",
     "shell.execute_reply": "2024-01-10T01:25:06.805649Z"
    },
    "papermill": {
     "duration": 0.027989,
     "end_time": "2024-01-10T01:25:06.808367",
     "exception": false,
     "start_time": "2024-01-10T01:25:06.780378",
     "status": "completed"
    },
    "tags": []
   },
   "outputs": [],
   "source": [
    "def obtain_metric(model, X_test, y_test, db1):\n",
    "    predict = model.predict(X_test)\n",
    "    df_metrics = pd.DataFrame({\n",
    "        'R2': [r2_score(y_test,predict)],\n",
    "        'MSE': [mean_squared_error(y_test, predict)],\n",
    "        'MAE': [mean_absolute_error(y_test, predict)]\n",
    "    }, index=[db1])\n",
    "\n",
    "    return df_metrics"
   ]
  },
  {
   "cell_type": "code",
   "execution_count": 30,
   "id": "a90cad17",
   "metadata": {
    "execution": {
     "iopub.execute_input": "2024-01-10T01:25:06.850675Z",
     "iopub.status.busy": "2024-01-10T01:25:06.850282Z",
     "iopub.status.idle": "2024-01-10T01:25:06.855139Z",
     "shell.execute_reply": "2024-01-10T01:25:06.854500Z"
    },
    "papermill": {
     "duration": 0.028644,
     "end_time": "2024-01-10T01:25:06.857358",
     "exception": false,
     "start_time": "2024-01-10T01:25:06.828714",
     "status": "completed"
    },
    "tags": []
   },
   "outputs": [],
   "source": [
    "def tabel_metrics(modelo_reg_linear, modelo_dt, modelo_rf, X_test, y_test):\n",
    "    df_metricas_reg_linear = obtain_metric(modelo_reg_linear, X_test, y_test, 'Linear Regression')\n",
    "    df_metricas_dt = obtain_metric(modelo_dt, X_test, y_test, 'Decision Tree Regression')\n",
    "    df_metricas_rf = obtain_metric(modelo_rf, X_test, y_test, 'Random Forest Regression')\n",
    "\n",
    "    return pd.concat([df_metricas_reg_linear, df_metricas_dt, df_metricas_rf])\n"
   ]
  },
  {
   "cell_type": "code",
   "execution_count": 31,
   "id": "fe5bbfb9",
   "metadata": {
    "execution": {
     "iopub.execute_input": "2024-01-10T01:25:06.898136Z",
     "iopub.status.busy": "2024-01-10T01:25:06.897154Z",
     "iopub.status.idle": "2024-01-10T01:25:06.933176Z",
     "shell.execute_reply": "2024-01-10T01:25:06.932102Z"
    },
    "papermill": {
     "duration": 0.058623,
     "end_time": "2024-01-10T01:25:06.935903",
     "exception": false,
     "start_time": "2024-01-10T01:25:06.877280",
     "status": "completed"
    },
    "tags": []
   },
   "outputs": [
    {
     "data": {
      "text/html": [
       "<div>\n",
       "<style scoped>\n",
       "    .dataframe tbody tr th:only-of-type {\n",
       "        vertical-align: middle;\n",
       "    }\n",
       "\n",
       "    .dataframe tbody tr th {\n",
       "        vertical-align: top;\n",
       "    }\n",
       "\n",
       "    .dataframe thead th {\n",
       "        text-align: right;\n",
       "    }\n",
       "</style>\n",
       "<table border=\"1\" class=\"dataframe\">\n",
       "  <thead>\n",
       "    <tr style=\"text-align: right;\">\n",
       "      <th></th>\n",
       "      <th>R2</th>\n",
       "      <th>MSE</th>\n",
       "      <th>MAE</th>\n",
       "    </tr>\n",
       "  </thead>\n",
       "  <tbody>\n",
       "    <tr>\n",
       "      <th>Linear Regression</th>\n",
       "      <td>0.572978</td>\n",
       "      <td>2.467994e+09</td>\n",
       "      <td>39737.931020</td>\n",
       "    </tr>\n",
       "    <tr>\n",
       "      <th>Decision Tree Regression</th>\n",
       "      <td>0.567424</td>\n",
       "      <td>2.500095e+09</td>\n",
       "      <td>39945.414315</td>\n",
       "    </tr>\n",
       "    <tr>\n",
       "      <th>Random Forest Regression</th>\n",
       "      <td>0.570670</td>\n",
       "      <td>2.481336e+09</td>\n",
       "      <td>39814.649823</td>\n",
       "    </tr>\n",
       "  </tbody>\n",
       "</table>\n",
       "</div>"
      ],
      "text/plain": [
       "                                R2           MSE           MAE\n",
       "Linear Regression         0.572978  2.467994e+09  39737.931020\n",
       "Decision Tree Regression  0.567424  2.500095e+09  39945.414315\n",
       "Random Forest Regression  0.570670  2.481336e+09  39814.649823"
      ]
     },
     "execution_count": 31,
     "metadata": {},
     "output_type": "execute_result"
    }
   ],
   "source": [
    "tabel_metrics(lr, dtr, rf, X_test, y_test)"
   ]
  },
  {
   "cell_type": "markdown",
   "id": "a712fcd7",
   "metadata": {
    "papermill": {
     "duration": 0.024977,
     "end_time": "2024-01-10T01:25:06.986248",
     "exception": false,
     "start_time": "2024-01-10T01:25:06.961271",
     "status": "completed"
    },
    "tags": []
   },
   "source": [
    "# Optmizing the Decision Tree\n"
   ]
  },
  {
   "cell_type": "code",
   "execution_count": 32,
   "id": "019cdfa6",
   "metadata": {
    "execution": {
     "iopub.execute_input": "2024-01-10T01:25:07.035595Z",
     "iopub.status.busy": "2024-01-10T01:25:07.035268Z",
     "iopub.status.idle": "2024-01-10T01:25:07.039143Z",
     "shell.execute_reply": "2024-01-10T01:25:07.038347Z"
    },
    "papermill": {
     "duration": 0.027794,
     "end_time": "2024-01-10T01:25:07.040766",
     "exception": false,
     "start_time": "2024-01-10T01:25:07.012972",
     "status": "completed"
    },
    "tags": []
   },
   "outputs": [],
   "source": [
    "from sklearn.model_selection import KFold\n",
    "\n",
    "#defining the K number of layers\n",
    "cv = KFold(n_splits = 5, shuffle=True)"
   ]
  },
  {
   "cell_type": "markdown",
   "id": "effec377",
   "metadata": {
    "papermill": {
     "duration": 0.018529,
     "end_time": "2024-01-10T01:25:07.078120",
     "exception": false,
     "start_time": "2024-01-10T01:25:07.059591",
     "status": "completed"
    },
    "tags": []
   },
   "source": [
    "Cross Validation"
   ]
  },
  {
   "cell_type": "code",
   "execution_count": 33,
   "id": "834f5f68",
   "metadata": {
    "execution": {
     "iopub.execute_input": "2024-01-10T01:25:07.118433Z",
     "iopub.status.busy": "2024-01-10T01:25:07.117873Z",
     "iopub.status.idle": "2024-01-10T01:25:07.121780Z",
     "shell.execute_reply": "2024-01-10T01:25:07.121117Z"
    },
    "papermill": {
     "duration": 0.025719,
     "end_time": "2024-01-10T01:25:07.123411",
     "exception": false,
     "start_time": "2024-01-10T01:25:07.097692",
     "status": "completed"
    },
    "tags": []
   },
   "outputs": [],
   "source": [
    "from sklearn.model_selection import cross_val_score"
   ]
  },
  {
   "cell_type": "code",
   "execution_count": 34,
   "id": "8f24db9b",
   "metadata": {
    "execution": {
     "iopub.execute_input": "2024-01-10T01:25:07.163038Z",
     "iopub.status.busy": "2024-01-10T01:25:07.162682Z",
     "iopub.status.idle": "2024-01-10T01:25:07.342124Z",
     "shell.execute_reply": "2024-01-10T01:25:07.341120Z"
    },
    "papermill": {
     "duration": 0.201598,
     "end_time": "2024-01-10T01:25:07.343974",
     "exception": false,
     "start_time": "2024-01-10T01:25:07.142376",
     "status": "completed"
    },
    "tags": []
   },
   "outputs": [
    {
     "name": "stdout",
     "output_type": "stream",
     "text": [
      "r2 performance:0.563\n"
     ]
    }
   ],
   "source": [
    "cross_val_r2_performance = cross_val_score(estimator = dtr,\n",
    "                                          X = X_train,\n",
    "                                          y = y_train,\n",
    "                                          scoring = 'r2',\n",
    "                                          cv = cv)\n",
    "print('r2 performance:{}'.format(round(cross_val_r2_performance.mean(),3)))"
   ]
  },
  {
   "cell_type": "markdown",
   "id": "4d52633b",
   "metadata": {
    "papermill": {
     "duration": 0.018909,
     "end_time": "2024-01-10T01:25:07.382379",
     "exception": false,
     "start_time": "2024-01-10T01:25:07.363470",
     "status": "completed"
    },
    "tags": []
   },
   "source": [
    "# Random Search Validation"
   ]
  },
  {
   "cell_type": "code",
   "execution_count": 35,
   "id": "de94079b",
   "metadata": {
    "execution": {
     "iopub.execute_input": "2024-01-10T01:25:07.423198Z",
     "iopub.status.busy": "2024-01-10T01:25:07.422611Z",
     "iopub.status.idle": "2024-01-10T01:25:07.428042Z",
     "shell.execute_reply": "2024-01-10T01:25:07.426771Z"
    },
    "papermill": {
     "duration": 0.028247,
     "end_time": "2024-01-10T01:25:07.430215",
     "exception": false,
     "start_time": "2024-01-10T01:25:07.401968",
     "status": "completed"
    },
    "tags": []
   },
   "outputs": [],
   "source": [
    "#hiperparameters selection\n",
    "param_random_dt = {\n",
    "    'criterion':['squared_error', 'absolut_error'],\n",
    "    'max_depth':[6,8,10,12,14,16],\n",
    "    'min_samples_leaf':[6,8,10],\n",
    "    'min_samples_split':[8,10,12,14,16],\n",
    "    'max_features':['sqrt','log2', 'auto'],\n",
    "        }"
   ]
  },
  {
   "cell_type": "code",
   "execution_count": 36,
   "id": "737fccc4",
   "metadata": {
    "execution": {
     "iopub.execute_input": "2024-01-10T01:25:07.470474Z",
     "iopub.status.busy": "2024-01-10T01:25:07.470175Z",
     "iopub.status.idle": "2024-01-10T01:25:07.474736Z",
     "shell.execute_reply": "2024-01-10T01:25:07.473562Z"
    },
    "papermill": {
     "duration": 0.026601,
     "end_time": "2024-01-10T01:25:07.476434",
     "exception": false,
     "start_time": "2024-01-10T01:25:07.449833",
     "status": "completed"
    },
    "tags": []
   },
   "outputs": [],
   "source": [
    "from sklearn.model_selection import RandomizedSearchCV"
   ]
  },
  {
   "cell_type": "code",
   "execution_count": 37,
   "id": "ae3d48d4",
   "metadata": {
    "execution": {
     "iopub.execute_input": "2024-01-10T01:25:07.516337Z",
     "iopub.status.busy": "2024-01-10T01:25:07.515594Z",
     "iopub.status.idle": "2024-01-10T01:25:07.520868Z",
     "shell.execute_reply": "2024-01-10T01:25:07.519789Z"
    },
    "papermill": {
     "duration": 0.027326,
     "end_time": "2024-01-10T01:25:07.522793",
     "exception": false,
     "start_time": "2024-01-10T01:25:07.495467",
     "status": "completed"
    },
    "tags": []
   },
   "outputs": [],
   "source": [
    "random_cv_dt = RandomizedSearchCV(\n",
    "dtr,\n",
    "param_random_dt,\n",
    "n_iter = 5,\n",
    "cv = cv,\n",
    "scoring = 'r2',\n",
    "n_jobs = -1\n",
    ")"
   ]
  },
  {
   "cell_type": "code",
   "execution_count": 38,
   "id": "2e322cfc",
   "metadata": {
    "execution": {
     "iopub.execute_input": "2024-01-10T01:25:07.563528Z",
     "iopub.status.busy": "2024-01-10T01:25:07.562756Z",
     "iopub.status.idle": "2024-01-10T01:25:09.189440Z",
     "shell.execute_reply": "2024-01-10T01:25:09.187652Z"
    },
    "papermill": {
     "duration": 1.649607,
     "end_time": "2024-01-10T01:25:09.192006",
     "exception": false,
     "start_time": "2024-01-10T01:25:07.542399",
     "status": "completed"
    },
    "tags": []
   },
   "outputs": [
    {
     "name": "stderr",
     "output_type": "stream",
     "text": [
      "/opt/conda/lib/python3.10/site-packages/sklearn/tree/_classes.py:277: FutureWarning: `max_features='auto'` has been deprecated in 1.1 and will be removed in 1.3. To keep the past behaviour, explicitly set `max_features=1.0'`.\n",
      "  warnings.warn(\n",
      "/opt/conda/lib/python3.10/site-packages/sklearn/tree/_classes.py:277: FutureWarning: `max_features='auto'` has been deprecated in 1.1 and will be removed in 1.3. To keep the past behaviour, explicitly set `max_features=1.0'`.\n",
      "  warnings.warn(\n",
      "/opt/conda/lib/python3.10/site-packages/sklearn/tree/_classes.py:277: FutureWarning: `max_features='auto'` has been deprecated in 1.1 and will be removed in 1.3. To keep the past behaviour, explicitly set `max_features=1.0'`.\n",
      "  warnings.warn(\n",
      "/opt/conda/lib/python3.10/site-packages/sklearn/tree/_classes.py:277: FutureWarning: `max_features='auto'` has been deprecated in 1.1 and will be removed in 1.3. To keep the past behaviour, explicitly set `max_features=1.0'`.\n",
      "  warnings.warn(\n",
      "/opt/conda/lib/python3.10/site-packages/sklearn/tree/_classes.py:277: FutureWarning: `max_features='auto'` has been deprecated in 1.1 and will be removed in 1.3. To keep the past behaviour, explicitly set `max_features=1.0'`.\n",
      "  warnings.warn(\n",
      "/opt/conda/lib/python3.10/site-packages/sklearn/model_selection/_validation.py:378: FitFailedWarning: \n",
      "15 fits failed out of a total of 25.\n",
      "The score on these train-test partitions for these parameters will be set to nan.\n",
      "If these failures are not expected, you can try to debug them by setting error_score='raise'.\n",
      "\n",
      "Below are more details about the failures:\n",
      "--------------------------------------------------------------------------------\n",
      "5 fits failed with the following error:\n",
      "Traceback (most recent call last):\n",
      "  File \"/opt/conda/lib/python3.10/site-packages/sklearn/model_selection/_validation.py\", line 686, in _fit_and_score\n",
      "    estimator.fit(X_train, y_train, **fit_params)\n",
      "  File \"/opt/conda/lib/python3.10/site-packages/sklearn/tree/_classes.py\", line 1247, in fit\n",
      "    super().fit(\n",
      "  File \"/opt/conda/lib/python3.10/site-packages/sklearn/tree/_classes.py\", line 177, in fit\n",
      "    self._validate_params()\n",
      "  File \"/opt/conda/lib/python3.10/site-packages/sklearn/base.py\", line 600, in _validate_params\n",
      "    validate_parameter_constraints(\n",
      "  File \"/opt/conda/lib/python3.10/site-packages/sklearn/utils/_param_validation.py\", line 97, in validate_parameter_constraints\n",
      "    raise InvalidParameterError(\n",
      "sklearn.utils._param_validation.InvalidParameterError: The 'criterion' parameter of DecisionTreeRegressor must be a str among {'squared_error', 'friedman_mse', 'absolute_error', 'poisson'}. Got 'absolut_error' instead.\n",
      "\n",
      "--------------------------------------------------------------------------------\n",
      "4 fits failed with the following error:\n",
      "Traceback (most recent call last):\n",
      "  File \"/opt/conda/lib/python3.10/site-packages/sklearn/model_selection/_validation.py\", line 686, in _fit_and_score\n",
      "    estimator.fit(X_train, y_train, **fit_params)\n",
      "  File \"/opt/conda/lib/python3.10/site-packages/sklearn/tree/_classes.py\", line 1247, in fit\n",
      "    super().fit(\n",
      "  File \"/opt/conda/lib/python3.10/site-packages/sklearn/tree/_classes.py\", line 177, in fit\n",
      "    self._validate_params()\n",
      "  File \"/opt/conda/lib/python3.10/site-packages/sklearn/base.py\", line 600, in _validate_params\n",
      "    validate_parameter_constraints(\n",
      "  File \"/opt/conda/lib/python3.10/site-packages/sklearn/utils/_param_validation.py\", line 97, in validate_parameter_constraints\n",
      "    raise InvalidParameterError(\n",
      "sklearn.utils._param_validation.InvalidParameterError: The 'criterion' parameter of DecisionTreeRegressor must be a str among {'absolute_error', 'friedman_mse', 'squared_error', 'poisson'}. Got 'absolut_error' instead.\n",
      "\n",
      "--------------------------------------------------------------------------------\n",
      "5 fits failed with the following error:\n",
      "Traceback (most recent call last):\n",
      "  File \"/opt/conda/lib/python3.10/site-packages/sklearn/model_selection/_validation.py\", line 686, in _fit_and_score\n",
      "    estimator.fit(X_train, y_train, **fit_params)\n",
      "  File \"/opt/conda/lib/python3.10/site-packages/sklearn/tree/_classes.py\", line 1247, in fit\n",
      "    super().fit(\n",
      "  File \"/opt/conda/lib/python3.10/site-packages/sklearn/tree/_classes.py\", line 177, in fit\n",
      "    self._validate_params()\n",
      "  File \"/opt/conda/lib/python3.10/site-packages/sklearn/base.py\", line 600, in _validate_params\n",
      "    validate_parameter_constraints(\n",
      "  File \"/opt/conda/lib/python3.10/site-packages/sklearn/utils/_param_validation.py\", line 97, in validate_parameter_constraints\n",
      "    raise InvalidParameterError(\n",
      "sklearn.utils._param_validation.InvalidParameterError: The 'criterion' parameter of DecisionTreeRegressor must be a str among {'absolute_error', 'poisson', 'squared_error', 'friedman_mse'}. Got 'absolut_error' instead.\n",
      "\n",
      "--------------------------------------------------------------------------------\n",
      "1 fits failed with the following error:\n",
      "Traceback (most recent call last):\n",
      "  File \"/opt/conda/lib/python3.10/site-packages/sklearn/model_selection/_validation.py\", line 686, in _fit_and_score\n",
      "    estimator.fit(X_train, y_train, **fit_params)\n",
      "  File \"/opt/conda/lib/python3.10/site-packages/sklearn/tree/_classes.py\", line 1247, in fit\n",
      "    super().fit(\n",
      "  File \"/opt/conda/lib/python3.10/site-packages/sklearn/tree/_classes.py\", line 177, in fit\n",
      "    self._validate_params()\n",
      "  File \"/opt/conda/lib/python3.10/site-packages/sklearn/base.py\", line 600, in _validate_params\n",
      "    validate_parameter_constraints(\n",
      "  File \"/opt/conda/lib/python3.10/site-packages/sklearn/utils/_param_validation.py\", line 97, in validate_parameter_constraints\n",
      "    raise InvalidParameterError(\n",
      "sklearn.utils._param_validation.InvalidParameterError: The 'criterion' parameter of DecisionTreeRegressor must be a str among {'absolute_error', 'poisson', 'friedman_mse', 'squared_error'}. Got 'absolut_error' instead.\n",
      "\n",
      "  warnings.warn(some_fits_failed_message, FitFailedWarning)\n",
      "/opt/conda/lib/python3.10/site-packages/sklearn/model_selection/_search.py:952: UserWarning: One or more of the test scores are non-finite: [       nan 0.37526907        nan        nan 0.55275929]\n",
      "  warnings.warn(\n",
      "/opt/conda/lib/python3.10/site-packages/sklearn/tree/_classes.py:277: FutureWarning: `max_features='auto'` has been deprecated in 1.1 and will be removed in 1.3. To keep the past behaviour, explicitly set `max_features=1.0'`.\n",
      "  warnings.warn(\n"
     ]
    }
   ],
   "source": [
    "randomcv_dtr = random_cv_dt.fit(X_train, y_train)"
   ]
  },
  {
   "cell_type": "code",
   "execution_count": 39,
   "id": "99446334",
   "metadata": {
    "execution": {
     "iopub.execute_input": "2024-01-10T01:25:09.232696Z",
     "iopub.status.busy": "2024-01-10T01:25:09.232255Z",
     "iopub.status.idle": "2024-01-10T01:25:09.253413Z",
     "shell.execute_reply": "2024-01-10T01:25:09.252691Z"
    },
    "papermill": {
     "duration": 0.043872,
     "end_time": "2024-01-10T01:25:09.255314",
     "exception": false,
     "start_time": "2024-01-10T01:25:09.211442",
     "status": "completed"
    },
    "tags": []
   },
   "outputs": [
    {
     "data": {
      "text/html": [
       "<div>\n",
       "<style scoped>\n",
       "    .dataframe tbody tr th:only-of-type {\n",
       "        vertical-align: middle;\n",
       "    }\n",
       "\n",
       "    .dataframe tbody tr th {\n",
       "        vertical-align: top;\n",
       "    }\n",
       "\n",
       "    .dataframe thead th {\n",
       "        text-align: right;\n",
       "    }\n",
       "</style>\n",
       "<table border=\"1\" class=\"dataframe\">\n",
       "  <thead>\n",
       "    <tr style=\"text-align: right;\">\n",
       "      <th></th>\n",
       "      <th>mean_fit_time</th>\n",
       "      <th>std_fit_time</th>\n",
       "      <th>mean_score_time</th>\n",
       "      <th>std_score_time</th>\n",
       "      <th>param_min_samples_split</th>\n",
       "      <th>param_min_samples_leaf</th>\n",
       "      <th>param_max_features</th>\n",
       "      <th>param_max_depth</th>\n",
       "      <th>param_criterion</th>\n",
       "      <th>params</th>\n",
       "      <th>split0_test_score</th>\n",
       "      <th>split1_test_score</th>\n",
       "      <th>split2_test_score</th>\n",
       "      <th>split3_test_score</th>\n",
       "      <th>split4_test_score</th>\n",
       "      <th>mean_test_score</th>\n",
       "      <th>std_test_score</th>\n",
       "      <th>rank_test_score</th>\n",
       "    </tr>\n",
       "  </thead>\n",
       "  <tbody>\n",
       "    <tr>\n",
       "      <th>0</th>\n",
       "      <td>0.002870</td>\n",
       "      <td>0.000366</td>\n",
       "      <td>0.000000</td>\n",
       "      <td>0.000000</td>\n",
       "      <td>12</td>\n",
       "      <td>6</td>\n",
       "      <td>sqrt</td>\n",
       "      <td>14</td>\n",
       "      <td>absolut_error</td>\n",
       "      <td>{'min_samples_split': 12, 'min_samples_leaf': ...</td>\n",
       "      <td>NaN</td>\n",
       "      <td>NaN</td>\n",
       "      <td>NaN</td>\n",
       "      <td>NaN</td>\n",
       "      <td>NaN</td>\n",
       "      <td>NaN</td>\n",
       "      <td>NaN</td>\n",
       "      <td>3</td>\n",
       "    </tr>\n",
       "    <tr>\n",
       "      <th>1</th>\n",
       "      <td>0.016622</td>\n",
       "      <td>0.000487</td>\n",
       "      <td>0.003180</td>\n",
       "      <td>0.000198</td>\n",
       "      <td>8</td>\n",
       "      <td>6</td>\n",
       "      <td>log2</td>\n",
       "      <td>6</td>\n",
       "      <td>squared_error</td>\n",
       "      <td>{'min_samples_split': 8, 'min_samples_leaf': 6...</td>\n",
       "      <td>0.373350</td>\n",
       "      <td>0.376239</td>\n",
       "      <td>0.353179</td>\n",
       "      <td>0.403425</td>\n",
       "      <td>0.370154</td>\n",
       "      <td>0.375269</td>\n",
       "      <td>0.016196</td>\n",
       "      <td>2</td>\n",
       "    </tr>\n",
       "    <tr>\n",
       "      <th>2</th>\n",
       "      <td>0.002223</td>\n",
       "      <td>0.000221</td>\n",
       "      <td>0.000000</td>\n",
       "      <td>0.000000</td>\n",
       "      <td>14</td>\n",
       "      <td>6</td>\n",
       "      <td>log2</td>\n",
       "      <td>16</td>\n",
       "      <td>absolut_error</td>\n",
       "      <td>{'min_samples_split': 14, 'min_samples_leaf': ...</td>\n",
       "      <td>NaN</td>\n",
       "      <td>NaN</td>\n",
       "      <td>NaN</td>\n",
       "      <td>NaN</td>\n",
       "      <td>NaN</td>\n",
       "      <td>NaN</td>\n",
       "      <td>NaN</td>\n",
       "      <td>3</td>\n",
       "    </tr>\n",
       "    <tr>\n",
       "      <th>3</th>\n",
       "      <td>0.002217</td>\n",
       "      <td>0.000229</td>\n",
       "      <td>0.000000</td>\n",
       "      <td>0.000000</td>\n",
       "      <td>12</td>\n",
       "      <td>10</td>\n",
       "      <td>log2</td>\n",
       "      <td>12</td>\n",
       "      <td>absolut_error</td>\n",
       "      <td>{'min_samples_split': 12, 'min_samples_leaf': ...</td>\n",
       "      <td>NaN</td>\n",
       "      <td>NaN</td>\n",
       "      <td>NaN</td>\n",
       "      <td>NaN</td>\n",
       "      <td>NaN</td>\n",
       "      <td>NaN</td>\n",
       "      <td>NaN</td>\n",
       "      <td>3</td>\n",
       "    </tr>\n",
       "    <tr>\n",
       "      <th>4</th>\n",
       "      <td>0.053270</td>\n",
       "      <td>0.003377</td>\n",
       "      <td>0.003063</td>\n",
       "      <td>0.000414</td>\n",
       "      <td>14</td>\n",
       "      <td>8</td>\n",
       "      <td>auto</td>\n",
       "      <td>8</td>\n",
       "      <td>squared_error</td>\n",
       "      <td>{'min_samples_split': 14, 'min_samples_leaf': ...</td>\n",
       "      <td>0.558144</td>\n",
       "      <td>0.563305</td>\n",
       "      <td>0.540803</td>\n",
       "      <td>0.540572</td>\n",
       "      <td>0.560973</td>\n",
       "      <td>0.552759</td>\n",
       "      <td>0.009991</td>\n",
       "      <td>1</td>\n",
       "    </tr>\n",
       "  </tbody>\n",
       "</table>\n",
       "</div>"
      ],
      "text/plain": [
       "   mean_fit_time  std_fit_time  mean_score_time  std_score_time  \\\n",
       "0       0.002870      0.000366         0.000000        0.000000   \n",
       "1       0.016622      0.000487         0.003180        0.000198   \n",
       "2       0.002223      0.000221         0.000000        0.000000   \n",
       "3       0.002217      0.000229         0.000000        0.000000   \n",
       "4       0.053270      0.003377         0.003063        0.000414   \n",
       "\n",
       "  param_min_samples_split param_min_samples_leaf param_max_features  \\\n",
       "0                      12                      6               sqrt   \n",
       "1                       8                      6               log2   \n",
       "2                      14                      6               log2   \n",
       "3                      12                     10               log2   \n",
       "4                      14                      8               auto   \n",
       "\n",
       "  param_max_depth param_criterion  \\\n",
       "0              14   absolut_error   \n",
       "1               6   squared_error   \n",
       "2              16   absolut_error   \n",
       "3              12   absolut_error   \n",
       "4               8   squared_error   \n",
       "\n",
       "                                              params  split0_test_score  \\\n",
       "0  {'min_samples_split': 12, 'min_samples_leaf': ...                NaN   \n",
       "1  {'min_samples_split': 8, 'min_samples_leaf': 6...           0.373350   \n",
       "2  {'min_samples_split': 14, 'min_samples_leaf': ...                NaN   \n",
       "3  {'min_samples_split': 12, 'min_samples_leaf': ...                NaN   \n",
       "4  {'min_samples_split': 14, 'min_samples_leaf': ...           0.558144   \n",
       "\n",
       "   split1_test_score  split2_test_score  split3_test_score  split4_test_score  \\\n",
       "0                NaN                NaN                NaN                NaN   \n",
       "1           0.376239           0.353179           0.403425           0.370154   \n",
       "2                NaN                NaN                NaN                NaN   \n",
       "3                NaN                NaN                NaN                NaN   \n",
       "4           0.563305           0.540803           0.540572           0.560973   \n",
       "\n",
       "   mean_test_score  std_test_score  rank_test_score  \n",
       "0              NaN             NaN                3  \n",
       "1         0.375269        0.016196                2  \n",
       "2              NaN             NaN                3  \n",
       "3              NaN             NaN                3  \n",
       "4         0.552759        0.009991                1  "
      ]
     },
     "execution_count": 39,
     "metadata": {},
     "output_type": "execute_result"
    }
   ],
   "source": [
    "pd.DataFrame(randomcv_dtr.cv_results_)"
   ]
  },
  {
   "cell_type": "code",
   "execution_count": 40,
   "id": "dc29572d",
   "metadata": {
    "execution": {
     "iopub.execute_input": "2024-01-10T01:25:09.297806Z",
     "iopub.status.busy": "2024-01-10T01:25:09.296780Z",
     "iopub.status.idle": "2024-01-10T01:25:09.304242Z",
     "shell.execute_reply": "2024-01-10T01:25:09.302823Z"
    },
    "papermill": {
     "duration": 0.031525,
     "end_time": "2024-01-10T01:25:09.306751",
     "exception": false,
     "start_time": "2024-01-10T01:25:09.275226",
     "status": "completed"
    },
    "tags": []
   },
   "outputs": [
    {
     "data": {
      "text/plain": [
       "{'min_samples_split': 14,\n",
       " 'min_samples_leaf': 8,\n",
       " 'max_features': 'auto',\n",
       " 'max_depth': 8,\n",
       " 'criterion': 'squared_error'}"
      ]
     },
     "execution_count": 40,
     "metadata": {},
     "output_type": "execute_result"
    }
   ],
   "source": [
    "#best combination\n",
    "randomcv_dtr.best_params_"
   ]
  },
  {
   "cell_type": "code",
   "execution_count": 41,
   "id": "2336b7de",
   "metadata": {
    "execution": {
     "iopub.execute_input": "2024-01-10T01:25:09.349676Z",
     "iopub.status.busy": "2024-01-10T01:25:09.349317Z",
     "iopub.status.idle": "2024-01-10T01:25:09.355524Z",
     "shell.execute_reply": "2024-01-10T01:25:09.354512Z"
    },
    "papermill": {
     "duration": 0.03073,
     "end_time": "2024-01-10T01:25:09.357177",
     "exception": false,
     "start_time": "2024-01-10T01:25:09.326447",
     "status": "completed"
    },
    "tags": []
   },
   "outputs": [
    {
     "data": {
      "text/plain": [
       "0.5527592865442292"
      ]
     },
     "execution_count": 41,
     "metadata": {},
     "output_type": "execute_result"
    }
   ],
   "source": [
    "#best score\n",
    "randomcv_dtr.best_score_"
   ]
  },
  {
   "cell_type": "markdown",
   "id": "10e7cf49",
   "metadata": {
    "papermill": {
     "duration": 0.018937,
     "end_time": "2024-01-10T01:25:09.395447",
     "exception": false,
     "start_time": "2024-01-10T01:25:09.376510",
     "status": "completed"
    },
    "tags": []
   },
   "source": [
    "# Random Search Test"
   ]
  },
  {
   "cell_type": "code",
   "execution_count": 42,
   "id": "a7461173",
   "metadata": {
    "execution": {
     "iopub.execute_input": "2024-01-10T01:25:09.435450Z",
     "iopub.status.busy": "2024-01-10T01:25:09.435113Z",
     "iopub.status.idle": "2024-01-10T01:25:09.439848Z",
     "shell.execute_reply": "2024-01-10T01:25:09.438719Z"
    },
    "papermill": {
     "duration": 0.02688,
     "end_time": "2024-01-10T01:25:09.441550",
     "exception": false,
     "start_time": "2024-01-10T01:25:09.414670",
     "status": "completed"
    },
    "tags": []
   },
   "outputs": [],
   "source": [
    "dtr_optmized = DecisionTreeRegressor(criterion= 'squared_error',\n",
    "                                     max_depth = 10,\n",
    "                                     max_features = 'auto',\n",
    "                                    min_samples_leaf = 8,\n",
    "                                     min_samples_split = 8)"
   ]
  },
  {
   "cell_type": "code",
   "execution_count": 43,
   "id": "48fe41c2",
   "metadata": {
    "execution": {
     "iopub.execute_input": "2024-01-10T01:25:09.483264Z",
     "iopub.status.busy": "2024-01-10T01:25:09.482210Z",
     "iopub.status.idle": "2024-01-10T01:25:09.558082Z",
     "shell.execute_reply": "2024-01-10T01:25:09.557090Z"
    },
    "papermill": {
     "duration": 0.098913,
     "end_time": "2024-01-10T01:25:09.560034",
     "exception": false,
     "start_time": "2024-01-10T01:25:09.461121",
     "status": "completed"
    },
    "tags": []
   },
   "outputs": [
    {
     "name": "stderr",
     "output_type": "stream",
     "text": [
      "/opt/conda/lib/python3.10/site-packages/sklearn/tree/_classes.py:277: FutureWarning: `max_features='auto'` has been deprecated in 1.1 and will be removed in 1.3. To keep the past behaviour, explicitly set `max_features=1.0'`.\n",
      "  warnings.warn(\n"
     ]
    },
    {
     "data": {
      "text/html": [
       "<style>#sk-container-id-4 {color: black;background-color: white;}#sk-container-id-4 pre{padding: 0;}#sk-container-id-4 div.sk-toggleable {background-color: white;}#sk-container-id-4 label.sk-toggleable__label {cursor: pointer;display: block;width: 100%;margin-bottom: 0;padding: 0.3em;box-sizing: border-box;text-align: center;}#sk-container-id-4 label.sk-toggleable__label-arrow:before {content: \"▸\";float: left;margin-right: 0.25em;color: #696969;}#sk-container-id-4 label.sk-toggleable__label-arrow:hover:before {color: black;}#sk-container-id-4 div.sk-estimator:hover label.sk-toggleable__label-arrow:before {color: black;}#sk-container-id-4 div.sk-toggleable__content {max-height: 0;max-width: 0;overflow: hidden;text-align: left;background-color: #f0f8ff;}#sk-container-id-4 div.sk-toggleable__content pre {margin: 0.2em;color: black;border-radius: 0.25em;background-color: #f0f8ff;}#sk-container-id-4 input.sk-toggleable__control:checked~div.sk-toggleable__content {max-height: 200px;max-width: 100%;overflow: auto;}#sk-container-id-4 input.sk-toggleable__control:checked~label.sk-toggleable__label-arrow:before {content: \"▾\";}#sk-container-id-4 div.sk-estimator input.sk-toggleable__control:checked~label.sk-toggleable__label {background-color: #d4ebff;}#sk-container-id-4 div.sk-label input.sk-toggleable__control:checked~label.sk-toggleable__label {background-color: #d4ebff;}#sk-container-id-4 input.sk-hidden--visually {border: 0;clip: rect(1px 1px 1px 1px);clip: rect(1px, 1px, 1px, 1px);height: 1px;margin: -1px;overflow: hidden;padding: 0;position: absolute;width: 1px;}#sk-container-id-4 div.sk-estimator {font-family: monospace;background-color: #f0f8ff;border: 1px dotted black;border-radius: 0.25em;box-sizing: border-box;margin-bottom: 0.5em;}#sk-container-id-4 div.sk-estimator:hover {background-color: #d4ebff;}#sk-container-id-4 div.sk-parallel-item::after {content: \"\";width: 100%;border-bottom: 1px solid gray;flex-grow: 1;}#sk-container-id-4 div.sk-label:hover label.sk-toggleable__label {background-color: #d4ebff;}#sk-container-id-4 div.sk-serial::before {content: \"\";position: absolute;border-left: 1px solid gray;box-sizing: border-box;top: 0;bottom: 0;left: 50%;z-index: 0;}#sk-container-id-4 div.sk-serial {display: flex;flex-direction: column;align-items: center;background-color: white;padding-right: 0.2em;padding-left: 0.2em;position: relative;}#sk-container-id-4 div.sk-item {position: relative;z-index: 1;}#sk-container-id-4 div.sk-parallel {display: flex;align-items: stretch;justify-content: center;background-color: white;position: relative;}#sk-container-id-4 div.sk-item::before, #sk-container-id-4 div.sk-parallel-item::before {content: \"\";position: absolute;border-left: 1px solid gray;box-sizing: border-box;top: 0;bottom: 0;left: 50%;z-index: -1;}#sk-container-id-4 div.sk-parallel-item {display: flex;flex-direction: column;z-index: 1;position: relative;background-color: white;}#sk-container-id-4 div.sk-parallel-item:first-child::after {align-self: flex-end;width: 50%;}#sk-container-id-4 div.sk-parallel-item:last-child::after {align-self: flex-start;width: 50%;}#sk-container-id-4 div.sk-parallel-item:only-child::after {width: 0;}#sk-container-id-4 div.sk-dashed-wrapped {border: 1px dashed gray;margin: 0 0.4em 0.5em 0.4em;box-sizing: border-box;padding-bottom: 0.4em;background-color: white;}#sk-container-id-4 div.sk-label label {font-family: monospace;font-weight: bold;display: inline-block;line-height: 1.2em;}#sk-container-id-4 div.sk-label-container {text-align: center;}#sk-container-id-4 div.sk-container {/* jupyter's `normalize.less` sets `[hidden] { display: none; }` but bootstrap.min.css set `[hidden] { display: none !important; }` so we also need the `!important` here to be able to override the default hidden behavior on the sphinx rendered scikit-learn.org. See: https://github.com/scikit-learn/scikit-learn/issues/21755 */display: inline-block !important;position: relative;}#sk-container-id-4 div.sk-text-repr-fallback {display: none;}</style><div id=\"sk-container-id-4\" class=\"sk-top-container\"><div class=\"sk-text-repr-fallback\"><pre>DecisionTreeRegressor(max_depth=10, max_features=&#x27;auto&#x27;, min_samples_leaf=8,\n",
       "                      min_samples_split=8)</pre><b>In a Jupyter environment, please rerun this cell to show the HTML representation or trust the notebook. <br />On GitHub, the HTML representation is unable to render, please try loading this page with nbviewer.org.</b></div><div class=\"sk-container\" hidden><div class=\"sk-item\"><div class=\"sk-estimator sk-toggleable\"><input class=\"sk-toggleable__control sk-hidden--visually\" id=\"sk-estimator-id-4\" type=\"checkbox\" checked><label for=\"sk-estimator-id-4\" class=\"sk-toggleable__label sk-toggleable__label-arrow\">DecisionTreeRegressor</label><div class=\"sk-toggleable__content\"><pre>DecisionTreeRegressor(max_depth=10, max_features=&#x27;auto&#x27;, min_samples_leaf=8,\n",
       "                      min_samples_split=8)</pre></div></div></div></div></div>"
      ],
      "text/plain": [
       "DecisionTreeRegressor(max_depth=10, max_features='auto', min_samples_leaf=8,\n",
       "                      min_samples_split=8)"
      ]
     },
     "execution_count": 43,
     "metadata": {},
     "output_type": "execute_result"
    }
   ],
   "source": [
    "dtr_optmized.fit(X_train, y_train)"
   ]
  },
  {
   "cell_type": "code",
   "execution_count": 44,
   "id": "b33adccc",
   "metadata": {
    "execution": {
     "iopub.execute_input": "2024-01-10T01:25:09.601657Z",
     "iopub.status.busy": "2024-01-10T01:25:09.601069Z",
     "iopub.status.idle": "2024-01-10T01:25:09.609542Z",
     "shell.execute_reply": "2024-01-10T01:25:09.607788Z"
    },
    "papermill": {
     "duration": 0.031645,
     "end_time": "2024-01-10T01:25:09.611530",
     "exception": false,
     "start_time": "2024-01-10T01:25:09.579885",
     "status": "completed"
    },
    "tags": []
   },
   "outputs": [],
   "source": [
    "optmized_dtr_prediction = dtr_optmized.predict(X_test)"
   ]
  },
  {
   "cell_type": "code",
   "execution_count": 45,
   "id": "7da90286",
   "metadata": {
    "execution": {
     "iopub.execute_input": "2024-01-10T01:25:09.654387Z",
     "iopub.status.busy": "2024-01-10T01:25:09.653965Z",
     "iopub.status.idle": "2024-01-10T01:25:09.661832Z",
     "shell.execute_reply": "2024-01-10T01:25:09.660436Z"
    },
    "papermill": {
     "duration": 0.032102,
     "end_time": "2024-01-10T01:25:09.664282",
     "exception": false,
     "start_time": "2024-01-10T01:25:09.632180",
     "status": "completed"
    },
    "tags": []
   },
   "outputs": [
    {
     "data": {
      "text/plain": [
       "0.5363399837663958"
      ]
     },
     "execution_count": 45,
     "metadata": {},
     "output_type": "execute_result"
    }
   ],
   "source": [
    "r2_score(y_test, optmized_dtr_prediction)"
   ]
  },
  {
   "cell_type": "markdown",
   "id": "34fe5c93",
   "metadata": {
    "papermill": {
     "duration": 0.020173,
     "end_time": "2024-01-10T01:25:09.705027",
     "exception": false,
     "start_time": "2024-01-10T01:25:09.684854",
     "status": "completed"
    },
    "tags": []
   },
   "source": [
    "# Optmizing the Random Forest"
   ]
  },
  {
   "cell_type": "markdown",
   "id": "1fcb0d94",
   "metadata": {
    "papermill": {
     "duration": 0.019569,
     "end_time": "2024-01-10T01:25:09.746785",
     "exception": false,
     "start_time": "2024-01-10T01:25:09.727216",
     "status": "completed"
    },
    "tags": []
   },
   "source": [
    "#  Cross Validation"
   ]
  },
  {
   "cell_type": "code",
   "execution_count": 46,
   "id": "cf119c0b",
   "metadata": {
    "execution": {
     "iopub.execute_input": "2024-01-10T01:25:09.790481Z",
     "iopub.status.busy": "2024-01-10T01:25:09.789447Z",
     "iopub.status.idle": "2024-01-10T01:25:10.859549Z",
     "shell.execute_reply": "2024-01-10T01:25:10.857879Z"
    },
    "papermill": {
     "duration": 1.094831,
     "end_time": "2024-01-10T01:25:10.861449",
     "exception": false,
     "start_time": "2024-01-10T01:25:09.766618",
     "status": "completed"
    },
    "tags": []
   },
   "outputs": [
    {
     "name": "stdout",
     "output_type": "stream",
     "text": [
      "R2 medium performance:0.565\n"
     ]
    }
   ],
   "source": [
    "RF_cross_val_performance = cross_val_score(estimator =rf,\n",
    "                                          X = X_train,\n",
    "                                          y = y_train,\n",
    "                                          scoring = 'r2',\n",
    "                                          cv= cv)\n",
    "print('R2 medium performance:{}'.format(round(RF_cross_val_performance.mean(),3)))"
   ]
  },
  {
   "cell_type": "code",
   "execution_count": 47,
   "id": "a02e8db5",
   "metadata": {
    "execution": {
     "iopub.execute_input": "2024-01-10T01:25:10.903083Z",
     "iopub.status.busy": "2024-01-10T01:25:10.902763Z",
     "iopub.status.idle": "2024-01-10T01:25:10.907512Z",
     "shell.execute_reply": "2024-01-10T01:25:10.906729Z"
    },
    "papermill": {
     "duration": 0.02702,
     "end_time": "2024-01-10T01:25:10.909105",
     "exception": false,
     "start_time": "2024-01-10T01:25:10.882085",
     "status": "completed"
    },
    "tags": []
   },
   "outputs": [],
   "source": [
    "#n_estimators is the number of trees in a forest\n",
    "param_random_rf = {\n",
    "    'n_estimators': [150,200],\n",
    "    'max_depth':[20,30],\n",
    "    'min_samples_split': [8,10],\n",
    "    'min_samples_leaf': [3],\n",
    "}"
   ]
  },
  {
   "cell_type": "code",
   "execution_count": 48,
   "id": "504f55a9",
   "metadata": {
    "execution": {
     "iopub.execute_input": "2024-01-10T01:25:10.953523Z",
     "iopub.status.busy": "2024-01-10T01:25:10.952409Z",
     "iopub.status.idle": "2024-01-10T01:25:10.957227Z",
     "shell.execute_reply": "2024-01-10T01:25:10.956569Z"
    },
    "papermill": {
     "duration": 0.030811,
     "end_time": "2024-01-10T01:25:10.959266",
     "exception": false,
     "start_time": "2024-01-10T01:25:10.928455",
     "status": "completed"
    },
    "tags": []
   },
   "outputs": [],
   "source": [
    "#\n",
    "random_cv_rf = RandomizedSearchCV(\n",
    "rf,\n",
    "param_random_rf,\n",
    "n_iter = 5,\n",
    "cv = cv,\n",
    "scoring = 'r2',\n",
    "n_jobs =-1,\n",
    "random_state = 42\n",
    ")"
   ]
  },
  {
   "cell_type": "code",
   "execution_count": 49,
   "id": "c2dd4d11",
   "metadata": {
    "execution": {
     "iopub.execute_input": "2024-01-10T01:25:11.004234Z",
     "iopub.status.busy": "2024-01-10T01:25:11.003596Z",
     "iopub.status.idle": "2024-01-10T01:26:36.264318Z",
     "shell.execute_reply": "2024-01-10T01:26:36.263007Z"
    },
    "papermill": {
     "duration": 85.285255,
     "end_time": "2024-01-10T01:26:36.266880",
     "exception": false,
     "start_time": "2024-01-10T01:25:10.981625",
     "status": "completed"
    },
    "tags": []
   },
   "outputs": [],
   "source": [
    "rf_randomcv = random_cv_rf.fit(X_train, y_train)"
   ]
  },
  {
   "cell_type": "code",
   "execution_count": 50,
   "id": "22d4341b",
   "metadata": {
    "execution": {
     "iopub.execute_input": "2024-01-10T01:26:36.310634Z",
     "iopub.status.busy": "2024-01-10T01:26:36.309289Z",
     "iopub.status.idle": "2024-01-10T01:26:36.329245Z",
     "shell.execute_reply": "2024-01-10T01:26:36.327866Z"
    },
    "papermill": {
     "duration": 0.043393,
     "end_time": "2024-01-10T01:26:36.331349",
     "exception": false,
     "start_time": "2024-01-10T01:26:36.287956",
     "status": "completed"
    },
    "tags": []
   },
   "outputs": [
    {
     "data": {
      "text/html": [
       "<div>\n",
       "<style scoped>\n",
       "    .dataframe tbody tr th:only-of-type {\n",
       "        vertical-align: middle;\n",
       "    }\n",
       "\n",
       "    .dataframe tbody tr th {\n",
       "        vertical-align: top;\n",
       "    }\n",
       "\n",
       "    .dataframe thead th {\n",
       "        text-align: right;\n",
       "    }\n",
       "</style>\n",
       "<table border=\"1\" class=\"dataframe\">\n",
       "  <thead>\n",
       "    <tr style=\"text-align: right;\">\n",
       "      <th></th>\n",
       "      <th>mean_fit_time</th>\n",
       "      <th>std_fit_time</th>\n",
       "      <th>mean_score_time</th>\n",
       "      <th>std_score_time</th>\n",
       "      <th>param_n_estimators</th>\n",
       "      <th>param_min_samples_split</th>\n",
       "      <th>param_min_samples_leaf</th>\n",
       "      <th>param_max_depth</th>\n",
       "      <th>params</th>\n",
       "      <th>split0_test_score</th>\n",
       "      <th>split1_test_score</th>\n",
       "      <th>split2_test_score</th>\n",
       "      <th>split3_test_score</th>\n",
       "      <th>split4_test_score</th>\n",
       "      <th>mean_test_score</th>\n",
       "      <th>std_test_score</th>\n",
       "      <th>rank_test_score</th>\n",
       "    </tr>\n",
       "  </thead>\n",
       "  <tbody>\n",
       "    <tr>\n",
       "      <th>0</th>\n",
       "      <td>12.755964</td>\n",
       "      <td>0.085684</td>\n",
       "      <td>0.338763</td>\n",
       "      <td>0.051542</td>\n",
       "      <td>200</td>\n",
       "      <td>8</td>\n",
       "      <td>3</td>\n",
       "      <td>20</td>\n",
       "      <td>{'n_estimators': 200, 'min_samples_split': 8, ...</td>\n",
       "      <td>0.540328</td>\n",
       "      <td>0.535415</td>\n",
       "      <td>0.533572</td>\n",
       "      <td>0.547419</td>\n",
       "      <td>0.541222</td>\n",
       "      <td>0.539591</td>\n",
       "      <td>0.004861</td>\n",
       "      <td>3</td>\n",
       "    </tr>\n",
       "    <tr>\n",
       "      <th>1</th>\n",
       "      <td>12.662702</td>\n",
       "      <td>0.151696</td>\n",
       "      <td>0.281939</td>\n",
       "      <td>0.003527</td>\n",
       "      <td>200</td>\n",
       "      <td>8</td>\n",
       "      <td>3</td>\n",
       "      <td>30</td>\n",
       "      <td>{'n_estimators': 200, 'min_samples_split': 8, ...</td>\n",
       "      <td>0.539430</td>\n",
       "      <td>0.534463</td>\n",
       "      <td>0.532474</td>\n",
       "      <td>0.546744</td>\n",
       "      <td>0.540277</td>\n",
       "      <td>0.538678</td>\n",
       "      <td>0.004989</td>\n",
       "      <td>5</td>\n",
       "    </tr>\n",
       "    <tr>\n",
       "      <th>2</th>\n",
       "      <td>9.516984</td>\n",
       "      <td>0.172277</td>\n",
       "      <td>0.205138</td>\n",
       "      <td>0.005929</td>\n",
       "      <td>150</td>\n",
       "      <td>8</td>\n",
       "      <td>3</td>\n",
       "      <td>20</td>\n",
       "      <td>{'n_estimators': 150, 'min_samples_split': 8, ...</td>\n",
       "      <td>0.539822</td>\n",
       "      <td>0.534748</td>\n",
       "      <td>0.532616</td>\n",
       "      <td>0.547162</td>\n",
       "      <td>0.541037</td>\n",
       "      <td>0.539077</td>\n",
       "      <td>0.005104</td>\n",
       "      <td>4</td>\n",
       "    </tr>\n",
       "    <tr>\n",
       "      <th>3</th>\n",
       "      <td>12.314962</td>\n",
       "      <td>0.179926</td>\n",
       "      <td>0.264387</td>\n",
       "      <td>0.004083</td>\n",
       "      <td>200</td>\n",
       "      <td>10</td>\n",
       "      <td>3</td>\n",
       "      <td>30</td>\n",
       "      <td>{'n_estimators': 200, 'min_samples_split': 10,...</td>\n",
       "      <td>0.542586</td>\n",
       "      <td>0.537927</td>\n",
       "      <td>0.535854</td>\n",
       "      <td>0.549112</td>\n",
       "      <td>0.543177</td>\n",
       "      <td>0.541731</td>\n",
       "      <td>0.004611</td>\n",
       "      <td>2</td>\n",
       "    </tr>\n",
       "    <tr>\n",
       "      <th>4</th>\n",
       "      <td>8.711924</td>\n",
       "      <td>0.488294</td>\n",
       "      <td>0.185734</td>\n",
       "      <td>0.012151</td>\n",
       "      <td>150</td>\n",
       "      <td>10</td>\n",
       "      <td>3</td>\n",
       "      <td>20</td>\n",
       "      <td>{'n_estimators': 150, 'min_samples_split': 10,...</td>\n",
       "      <td>0.542852</td>\n",
       "      <td>0.538064</td>\n",
       "      <td>0.535678</td>\n",
       "      <td>0.549309</td>\n",
       "      <td>0.543648</td>\n",
       "      <td>0.541910</td>\n",
       "      <td>0.004739</td>\n",
       "      <td>1</td>\n",
       "    </tr>\n",
       "  </tbody>\n",
       "</table>\n",
       "</div>"
      ],
      "text/plain": [
       "   mean_fit_time  std_fit_time  mean_score_time  std_score_time  \\\n",
       "0      12.755964      0.085684         0.338763        0.051542   \n",
       "1      12.662702      0.151696         0.281939        0.003527   \n",
       "2       9.516984      0.172277         0.205138        0.005929   \n",
       "3      12.314962      0.179926         0.264387        0.004083   \n",
       "4       8.711924      0.488294         0.185734        0.012151   \n",
       "\n",
       "  param_n_estimators param_min_samples_split param_min_samples_leaf  \\\n",
       "0                200                       8                      3   \n",
       "1                200                       8                      3   \n",
       "2                150                       8                      3   \n",
       "3                200                      10                      3   \n",
       "4                150                      10                      3   \n",
       "\n",
       "  param_max_depth                                             params  \\\n",
       "0              20  {'n_estimators': 200, 'min_samples_split': 8, ...   \n",
       "1              30  {'n_estimators': 200, 'min_samples_split': 8, ...   \n",
       "2              20  {'n_estimators': 150, 'min_samples_split': 8, ...   \n",
       "3              30  {'n_estimators': 200, 'min_samples_split': 10,...   \n",
       "4              20  {'n_estimators': 150, 'min_samples_split': 10,...   \n",
       "\n",
       "   split0_test_score  split1_test_score  split2_test_score  split3_test_score  \\\n",
       "0           0.540328           0.535415           0.533572           0.547419   \n",
       "1           0.539430           0.534463           0.532474           0.546744   \n",
       "2           0.539822           0.534748           0.532616           0.547162   \n",
       "3           0.542586           0.537927           0.535854           0.549112   \n",
       "4           0.542852           0.538064           0.535678           0.549309   \n",
       "\n",
       "   split4_test_score  mean_test_score  std_test_score  rank_test_score  \n",
       "0           0.541222         0.539591        0.004861                3  \n",
       "1           0.540277         0.538678        0.004989                5  \n",
       "2           0.541037         0.539077        0.005104                4  \n",
       "3           0.543177         0.541731        0.004611                2  \n",
       "4           0.543648         0.541910        0.004739                1  "
      ]
     },
     "execution_count": 50,
     "metadata": {},
     "output_type": "execute_result"
    }
   ],
   "source": [
    "pd.DataFrame(rf_randomcv.cv_results_)"
   ]
  },
  {
   "cell_type": "code",
   "execution_count": 51,
   "id": "3d408226",
   "metadata": {
    "execution": {
     "iopub.execute_input": "2024-01-10T01:26:36.373064Z",
     "iopub.status.busy": "2024-01-10T01:26:36.372703Z",
     "iopub.status.idle": "2024-01-10T01:26:36.378121Z",
     "shell.execute_reply": "2024-01-10T01:26:36.377136Z"
    },
    "papermill": {
     "duration": 0.028514,
     "end_time": "2024-01-10T01:26:36.379815",
     "exception": false,
     "start_time": "2024-01-10T01:26:36.351301",
     "status": "completed"
    },
    "tags": []
   },
   "outputs": [
    {
     "data": {
      "text/plain": [
       "{'n_estimators': 150,\n",
       " 'min_samples_split': 10,\n",
       " 'min_samples_leaf': 3,\n",
       " 'max_depth': 20}"
      ]
     },
     "execution_count": 51,
     "metadata": {},
     "output_type": "execute_result"
    }
   ],
   "source": [
    "rf_randomcv.best_params_"
   ]
  },
  {
   "cell_type": "code",
   "execution_count": 52,
   "id": "e0a259b0",
   "metadata": {
    "execution": {
     "iopub.execute_input": "2024-01-10T01:26:36.422397Z",
     "iopub.status.busy": "2024-01-10T01:26:36.421700Z",
     "iopub.status.idle": "2024-01-10T01:26:36.426451Z",
     "shell.execute_reply": "2024-01-10T01:26:36.425838Z"
    },
    "papermill": {
     "duration": 0.027958,
     "end_time": "2024-01-10T01:26:36.428131",
     "exception": false,
     "start_time": "2024-01-10T01:26:36.400173",
     "status": "completed"
    },
    "tags": []
   },
   "outputs": [
    {
     "data": {
      "text/plain": [
       "0.5419103370136684"
      ]
     },
     "execution_count": 52,
     "metadata": {},
     "output_type": "execute_result"
    }
   ],
   "source": [
    "rf_randomcv.best_score_"
   ]
  },
  {
   "cell_type": "markdown",
   "id": "9d86ff45",
   "metadata": {
    "papermill": {
     "duration": 0.02,
     "end_time": "2024-01-10T01:26:36.468715",
     "exception": false,
     "start_time": "2024-01-10T01:26:36.448715",
     "status": "completed"
    },
    "tags": []
   },
   "source": [
    "# Random Search Test"
   ]
  },
  {
   "cell_type": "code",
   "execution_count": 53,
   "id": "83a16280",
   "metadata": {
    "execution": {
     "iopub.execute_input": "2024-01-10T01:26:36.511032Z",
     "iopub.status.busy": "2024-01-10T01:26:36.510453Z",
     "iopub.status.idle": "2024-01-10T01:26:36.514281Z",
     "shell.execute_reply": "2024-01-10T01:26:36.513628Z"
    },
    "papermill": {
     "duration": 0.027052,
     "end_time": "2024-01-10T01:26:36.515938",
     "exception": false,
     "start_time": "2024-01-10T01:26:36.488886",
     "status": "completed"
    },
    "tags": []
   },
   "outputs": [],
   "source": [
    "rf_optmized2 = RandomForestRegressor(random_state = 42, max_depth = 20,\n",
    "                                    n_estimators = 150,\n",
    "                                    min_samples_leaf = 3,\n",
    "                                    min_samples_split = 10)"
   ]
  },
  {
   "cell_type": "code",
   "execution_count": 54,
   "id": "6a8c5e51",
   "metadata": {
    "execution": {
     "iopub.execute_input": "2024-01-10T01:26:36.557674Z",
     "iopub.status.busy": "2024-01-10T01:26:36.557302Z",
     "iopub.status.idle": "2024-01-10T01:26:46.207631Z",
     "shell.execute_reply": "2024-01-10T01:26:46.207002Z"
    },
    "papermill": {
     "duration": 9.672921,
     "end_time": "2024-01-10T01:26:46.209128",
     "exception": false,
     "start_time": "2024-01-10T01:26:36.536207",
     "status": "completed"
    },
    "tags": []
   },
   "outputs": [
    {
     "data": {
      "text/html": [
       "<style>#sk-container-id-5 {color: black;background-color: white;}#sk-container-id-5 pre{padding: 0;}#sk-container-id-5 div.sk-toggleable {background-color: white;}#sk-container-id-5 label.sk-toggleable__label {cursor: pointer;display: block;width: 100%;margin-bottom: 0;padding: 0.3em;box-sizing: border-box;text-align: center;}#sk-container-id-5 label.sk-toggleable__label-arrow:before {content: \"▸\";float: left;margin-right: 0.25em;color: #696969;}#sk-container-id-5 label.sk-toggleable__label-arrow:hover:before {color: black;}#sk-container-id-5 div.sk-estimator:hover label.sk-toggleable__label-arrow:before {color: black;}#sk-container-id-5 div.sk-toggleable__content {max-height: 0;max-width: 0;overflow: hidden;text-align: left;background-color: #f0f8ff;}#sk-container-id-5 div.sk-toggleable__content pre {margin: 0.2em;color: black;border-radius: 0.25em;background-color: #f0f8ff;}#sk-container-id-5 input.sk-toggleable__control:checked~div.sk-toggleable__content {max-height: 200px;max-width: 100%;overflow: auto;}#sk-container-id-5 input.sk-toggleable__control:checked~label.sk-toggleable__label-arrow:before {content: \"▾\";}#sk-container-id-5 div.sk-estimator input.sk-toggleable__control:checked~label.sk-toggleable__label {background-color: #d4ebff;}#sk-container-id-5 div.sk-label input.sk-toggleable__control:checked~label.sk-toggleable__label {background-color: #d4ebff;}#sk-container-id-5 input.sk-hidden--visually {border: 0;clip: rect(1px 1px 1px 1px);clip: rect(1px, 1px, 1px, 1px);height: 1px;margin: -1px;overflow: hidden;padding: 0;position: absolute;width: 1px;}#sk-container-id-5 div.sk-estimator {font-family: monospace;background-color: #f0f8ff;border: 1px dotted black;border-radius: 0.25em;box-sizing: border-box;margin-bottom: 0.5em;}#sk-container-id-5 div.sk-estimator:hover {background-color: #d4ebff;}#sk-container-id-5 div.sk-parallel-item::after {content: \"\";width: 100%;border-bottom: 1px solid gray;flex-grow: 1;}#sk-container-id-5 div.sk-label:hover label.sk-toggleable__label {background-color: #d4ebff;}#sk-container-id-5 div.sk-serial::before {content: \"\";position: absolute;border-left: 1px solid gray;box-sizing: border-box;top: 0;bottom: 0;left: 50%;z-index: 0;}#sk-container-id-5 div.sk-serial {display: flex;flex-direction: column;align-items: center;background-color: white;padding-right: 0.2em;padding-left: 0.2em;position: relative;}#sk-container-id-5 div.sk-item {position: relative;z-index: 1;}#sk-container-id-5 div.sk-parallel {display: flex;align-items: stretch;justify-content: center;background-color: white;position: relative;}#sk-container-id-5 div.sk-item::before, #sk-container-id-5 div.sk-parallel-item::before {content: \"\";position: absolute;border-left: 1px solid gray;box-sizing: border-box;top: 0;bottom: 0;left: 50%;z-index: -1;}#sk-container-id-5 div.sk-parallel-item {display: flex;flex-direction: column;z-index: 1;position: relative;background-color: white;}#sk-container-id-5 div.sk-parallel-item:first-child::after {align-self: flex-end;width: 50%;}#sk-container-id-5 div.sk-parallel-item:last-child::after {align-self: flex-start;width: 50%;}#sk-container-id-5 div.sk-parallel-item:only-child::after {width: 0;}#sk-container-id-5 div.sk-dashed-wrapped {border: 1px dashed gray;margin: 0 0.4em 0.5em 0.4em;box-sizing: border-box;padding-bottom: 0.4em;background-color: white;}#sk-container-id-5 div.sk-label label {font-family: monospace;font-weight: bold;display: inline-block;line-height: 1.2em;}#sk-container-id-5 div.sk-label-container {text-align: center;}#sk-container-id-5 div.sk-container {/* jupyter's `normalize.less` sets `[hidden] { display: none; }` but bootstrap.min.css set `[hidden] { display: none !important; }` so we also need the `!important` here to be able to override the default hidden behavior on the sphinx rendered scikit-learn.org. See: https://github.com/scikit-learn/scikit-learn/issues/21755 */display: inline-block !important;position: relative;}#sk-container-id-5 div.sk-text-repr-fallback {display: none;}</style><div id=\"sk-container-id-5\" class=\"sk-top-container\"><div class=\"sk-text-repr-fallback\"><pre>RandomForestRegressor(max_depth=20, min_samples_leaf=3, min_samples_split=10,\n",
       "                      n_estimators=150, random_state=42)</pre><b>In a Jupyter environment, please rerun this cell to show the HTML representation or trust the notebook. <br />On GitHub, the HTML representation is unable to render, please try loading this page with nbviewer.org.</b></div><div class=\"sk-container\" hidden><div class=\"sk-item\"><div class=\"sk-estimator sk-toggleable\"><input class=\"sk-toggleable__control sk-hidden--visually\" id=\"sk-estimator-id-5\" type=\"checkbox\" checked><label for=\"sk-estimator-id-5\" class=\"sk-toggleable__label sk-toggleable__label-arrow\">RandomForestRegressor</label><div class=\"sk-toggleable__content\"><pre>RandomForestRegressor(max_depth=20, min_samples_leaf=3, min_samples_split=10,\n",
       "                      n_estimators=150, random_state=42)</pre></div></div></div></div></div>"
      ],
      "text/plain": [
       "RandomForestRegressor(max_depth=20, min_samples_leaf=3, min_samples_split=10,\n",
       "                      n_estimators=150, random_state=42)"
      ]
     },
     "execution_count": 54,
     "metadata": {},
     "output_type": "execute_result"
    }
   ],
   "source": [
    "rf_optmized2.fit(X_train, y_train)"
   ]
  },
  {
   "cell_type": "code",
   "execution_count": 55,
   "id": "ab70d241",
   "metadata": {
    "execution": {
     "iopub.execute_input": "2024-01-10T01:26:46.253754Z",
     "iopub.status.busy": "2024-01-10T01:26:46.253337Z",
     "iopub.status.idle": "2024-01-10T01:26:46.611237Z",
     "shell.execute_reply": "2024-01-10T01:26:46.609876Z"
    },
    "papermill": {
     "duration": 0.38295,
     "end_time": "2024-01-10T01:26:46.613542",
     "exception": false,
     "start_time": "2024-01-10T01:26:46.230592",
     "status": "completed"
    },
    "tags": []
   },
   "outputs": [],
   "source": [
    "predict_rf_optmized2 = rf_optmized2.predict(X_test)"
   ]
  },
  {
   "cell_type": "code",
   "execution_count": 56,
   "id": "168f2f1b",
   "metadata": {
    "execution": {
     "iopub.execute_input": "2024-01-10T01:26:46.655660Z",
     "iopub.status.busy": "2024-01-10T01:26:46.655326Z",
     "iopub.status.idle": "2024-01-10T01:26:46.663376Z",
     "shell.execute_reply": "2024-01-10T01:26:46.662174Z"
    },
    "papermill": {
     "duration": 0.031201,
     "end_time": "2024-01-10T01:26:46.665208",
     "exception": false,
     "start_time": "2024-01-10T01:26:46.634007",
     "status": "completed"
    },
    "tags": []
   },
   "outputs": [
    {
     "data": {
      "text/plain": [
       "0.5429396257940076"
      ]
     },
     "execution_count": 56,
     "metadata": {},
     "output_type": "execute_result"
    }
   ],
   "source": [
    "r2_score(y_test, predict_rf_optmized2)"
   ]
  },
  {
   "cell_type": "markdown",
   "id": "edf2ab49",
   "metadata": {
    "papermill": {
     "duration": 0.02123,
     "end_time": "2024-01-10T01:26:46.707657",
     "exception": false,
     "start_time": "2024-01-10T01:26:46.686427",
     "status": "completed"
    },
    "tags": []
   },
   "source": [
    "# Choosing the best Result"
   ]
  },
  {
   "cell_type": "code",
   "execution_count": 57,
   "id": "bfe818b7",
   "metadata": {
    "execution": {
     "iopub.execute_input": "2024-01-10T01:26:46.751388Z",
     "iopub.status.busy": "2024-01-10T01:26:46.750441Z",
     "iopub.status.idle": "2024-01-10T01:26:46.758548Z",
     "shell.execute_reply": "2024-01-10T01:26:46.757674Z"
    },
    "papermill": {
     "duration": 0.031774,
     "end_time": "2024-01-10T01:26:46.760295",
     "exception": false,
     "start_time": "2024-01-10T01:26:46.728521",
     "status": "completed"
    },
    "tags": []
   },
   "outputs": [
    {
     "name": "stdout",
     "output_type": "stream",
     "text": [
      "Random Search\n",
      "==============================\n",
      "Decision Tree: 0.536340\n",
      "Random forest: 0.542940\n",
      "******************************\n",
      "Cross Validation\n",
      "==============================\n",
      "Decision Tree: 0.563000\n",
      "Random Forest: 0.565000\n"
     ]
    }
   ],
   "source": [
    "print('Random Search')\n",
    "print('='*30)\n",
    "print('Decision Tree: %f'%r2_score(y_test,optmized_dtr_prediction))\n",
    "print('Random forest: %f'% r2_score(y_test,predict_rf_optmized2))\n",
    "print('*'*30)\n",
    "\n",
    "print('Cross Validation')\n",
    "print('='*30)\n",
    "print(\"Decision Tree: %f\" %round(cross_val_r2_performance.mean(),3))\n",
    "print('Random Forest: %f'%round(RF_cross_val_performance.mean(),3))\n"
   ]
  }
 ],
 "metadata": {
  "kaggle": {
   "accelerator": "none",
   "dataSources": [
    {
     "datasetId": 4037188,
     "sourceId": 7020742,
     "sourceType": "datasetVersion"
    }
   ],
   "dockerImageVersionId": 30615,
   "isGpuEnabled": false,
   "isInternetEnabled": true,
   "language": "python",
   "sourceType": "notebook"
  },
  "kernelspec": {
   "display_name": "Python 3 (ipykernel)",
   "language": "python",
   "name": "python3"
  },
  "language_info": {
   "codemirror_mode": {
    "name": "ipython",
    "version": 3
   },
   "file_extension": ".py",
   "mimetype": "text/x-python",
   "name": "python",
   "nbconvert_exporter": "python",
   "pygments_lexer": "ipython3",
   "version": "3.9.7"
  },
  "papermill": {
   "default_parameters": {},
   "duration": 112.288494,
   "end_time": "2024-01-10T01:26:49.399891",
   "environment_variables": {},
   "exception": null,
   "input_path": "__notebook__.ipynb",
   "output_path": "__notebook__.ipynb",
   "parameters": {},
   "start_time": "2024-01-10T01:24:57.111397",
   "version": "2.4.0"
  }
 },
 "nbformat": 4,
 "nbformat_minor": 5
}
